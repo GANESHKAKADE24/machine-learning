{
 "cells": [
  {
   "cell_type": "code",
   "execution_count": 1,
   "metadata": {},
   "outputs": [],
   "source": [
    "# importing all necessary libraries\n",
    "import pandas as pd\n",
    "import numpy as np\n",
    "import matplotlib.pyplot as plt\n",
    "import seaborn as sns\n",
    "import warnings\n",
    "warnings.filterwarnings(\"ignore\")"
   ]
  },
  {
   "cell_type": "code",
   "execution_count": 2,
   "metadata": {
    "colab": {},
    "colab_type": "code",
    "id": "39Is0it2xagK",
    "scrolled": true
   },
   "outputs": [
    {
     "data": {
      "text/html": [
       "<div>\n",
       "<style scoped>\n",
       "    .dataframe tbody tr th:only-of-type {\n",
       "        vertical-align: middle;\n",
       "    }\n",
       "\n",
       "    .dataframe tbody tr th {\n",
       "        vertical-align: top;\n",
       "    }\n",
       "\n",
       "    .dataframe thead th {\n",
       "        text-align: right;\n",
       "    }\n",
       "</style>\n",
       "<table border=\"1\" class=\"dataframe\">\n",
       "  <thead>\n",
       "    <tr style=\"text-align: right;\">\n",
       "      <th></th>\n",
       "      <th>price</th>\n",
       "      <th>name</th>\n",
       "      <th>yearOfRegistration</th>\n",
       "      <th>monthOfRegistration</th>\n",
       "      <th>gearbox</th>\n",
       "      <th>powerPS</th>\n",
       "      <th>model</th>\n",
       "      <th>kilometer</th>\n",
       "      <th>fuelType</th>\n",
       "      <th>brand</th>\n",
       "      <th>vehicleType</th>\n",
       "    </tr>\n",
       "  </thead>\n",
       "  <tbody>\n",
       "    <tr>\n",
       "      <th>0</th>\n",
       "      <td>400</td>\n",
       "      <td>Ford_Escort</td>\n",
       "      <td>1992</td>\n",
       "      <td>8</td>\n",
       "      <td>manuell</td>\n",
       "      <td>89</td>\n",
       "      <td>escort</td>\n",
       "      <td>60000</td>\n",
       "      <td>benzin</td>\n",
       "      <td>ford</td>\n",
       "      <td>kombi</td>\n",
       "    </tr>\n",
       "    <tr>\n",
       "      <th>1</th>\n",
       "      <td>3500</td>\n",
       "      <td>Bmw_320_cabrio</td>\n",
       "      <td>1996</td>\n",
       "      <td>0</td>\n",
       "      <td>manuell</td>\n",
       "      <td>150</td>\n",
       "      <td>3er</td>\n",
       "      <td>125000</td>\n",
       "      <td>NaN</td>\n",
       "      <td>bmw</td>\n",
       "      <td>cabrio</td>\n",
       "    </tr>\n",
       "    <tr>\n",
       "      <th>2</th>\n",
       "      <td>2200</td>\n",
       "      <td>Mercedes_C_230_T_im_top_Zustand_Tuev_Neu!!_Win...</td>\n",
       "      <td>1998</td>\n",
       "      <td>0</td>\n",
       "      <td>manuell</td>\n",
       "      <td>150</td>\n",
       "      <td>c_klasse</td>\n",
       "      <td>150000</td>\n",
       "      <td>benzin</td>\n",
       "      <td>mercedes_benz</td>\n",
       "      <td>kombi</td>\n",
       "    </tr>\n",
       "    <tr>\n",
       "      <th>3</th>\n",
       "      <td>4000</td>\n",
       "      <td>A3_Limousine</td>\n",
       "      <td>2006</td>\n",
       "      <td>7</td>\n",
       "      <td>manuell</td>\n",
       "      <td>0</td>\n",
       "      <td>a3</td>\n",
       "      <td>150000</td>\n",
       "      <td>diesel</td>\n",
       "      <td>audi</td>\n",
       "      <td>limousine</td>\n",
       "    </tr>\n",
       "    <tr>\n",
       "      <th>4</th>\n",
       "      <td>2600</td>\n",
       "      <td>Smart_Smart_cabrio_450_cdi</td>\n",
       "      <td>2002</td>\n",
       "      <td>7</td>\n",
       "      <td>automatik</td>\n",
       "      <td>41</td>\n",
       "      <td>fortwo</td>\n",
       "      <td>150000</td>\n",
       "      <td>diesel</td>\n",
       "      <td>smart</td>\n",
       "      <td>cabrio</td>\n",
       "    </tr>\n",
       "    <tr>\n",
       "      <th>...</th>\n",
       "      <td>...</td>\n",
       "      <td>...</td>\n",
       "      <td>...</td>\n",
       "      <td>...</td>\n",
       "      <td>...</td>\n",
       "      <td>...</td>\n",
       "      <td>...</td>\n",
       "      <td>...</td>\n",
       "      <td>...</td>\n",
       "      <td>...</td>\n",
       "      <td>...</td>\n",
       "    </tr>\n",
       "    <tr>\n",
       "      <th>9995</th>\n",
       "      <td>2650</td>\n",
       "      <td>Opel_Corsa_C_1.2_Twinport</td>\n",
       "      <td>2005</td>\n",
       "      <td>1</td>\n",
       "      <td>manuell</td>\n",
       "      <td>80</td>\n",
       "      <td>corsa</td>\n",
       "      <td>150000</td>\n",
       "      <td>benzin</td>\n",
       "      <td>opel</td>\n",
       "      <td>kleinwagen</td>\n",
       "    </tr>\n",
       "    <tr>\n",
       "      <th>9996</th>\n",
       "      <td>9600</td>\n",
       "      <td>Volkswagen_Touran_2.0_TDI_DPF</td>\n",
       "      <td>2011</td>\n",
       "      <td>6</td>\n",
       "      <td>manuell</td>\n",
       "      <td>140</td>\n",
       "      <td>touran</td>\n",
       "      <td>150000</td>\n",
       "      <td>diesel</td>\n",
       "      <td>volkswagen</td>\n",
       "      <td>bus</td>\n",
       "    </tr>\n",
       "    <tr>\n",
       "      <th>9997</th>\n",
       "      <td>1500</td>\n",
       "      <td>Suche_zuverlaessigen_Kombi</td>\n",
       "      <td>1999</td>\n",
       "      <td>0</td>\n",
       "      <td>NaN</td>\n",
       "      <td>101</td>\n",
       "      <td>astra</td>\n",
       "      <td>150000</td>\n",
       "      <td>NaN</td>\n",
       "      <td>opel</td>\n",
       "      <td>kombi</td>\n",
       "    </tr>\n",
       "    <tr>\n",
       "      <th>9998</th>\n",
       "      <td>970</td>\n",
       "      <td>Renault_Twingo</td>\n",
       "      <td>2002</td>\n",
       "      <td>10</td>\n",
       "      <td>manuell</td>\n",
       "      <td>58</td>\n",
       "      <td>twingo</td>\n",
       "      <td>150000</td>\n",
       "      <td>benzin</td>\n",
       "      <td>renault</td>\n",
       "      <td>kleinwagen</td>\n",
       "    </tr>\n",
       "    <tr>\n",
       "      <th>9999</th>\n",
       "      <td>7990</td>\n",
       "      <td>Renault_Megane_1.6_16V_100_Authentique</td>\n",
       "      <td>2012</td>\n",
       "      <td>4</td>\n",
       "      <td>manuell</td>\n",
       "      <td>101</td>\n",
       "      <td>megane</td>\n",
       "      <td>60000</td>\n",
       "      <td>benzin</td>\n",
       "      <td>renault</td>\n",
       "      <td>limousine</td>\n",
       "    </tr>\n",
       "  </tbody>\n",
       "</table>\n",
       "<p>10000 rows × 11 columns</p>\n",
       "</div>"
      ],
      "text/plain": [
       "      price                                               name  \\\n",
       "0       400                                        Ford_Escort   \n",
       "1      3500                                     Bmw_320_cabrio   \n",
       "2      2200  Mercedes_C_230_T_im_top_Zustand_Tuev_Neu!!_Win...   \n",
       "3      4000                                       A3_Limousine   \n",
       "4      2600                         Smart_Smart_cabrio_450_cdi   \n",
       "...     ...                                                ...   \n",
       "9995   2650                          Opel_Corsa_C_1.2_Twinport   \n",
       "9996   9600                      Volkswagen_Touran_2.0_TDI_DPF   \n",
       "9997   1500                         Suche_zuverlaessigen_Kombi   \n",
       "9998    970                                     Renault_Twingo   \n",
       "9999   7990             Renault_Megane_1.6_16V_100_Authentique   \n",
       "\n",
       "      yearOfRegistration  monthOfRegistration    gearbox  powerPS     model  \\\n",
       "0                   1992                    8    manuell       89    escort   \n",
       "1                   1996                    0    manuell      150       3er   \n",
       "2                   1998                    0    manuell      150  c_klasse   \n",
       "3                   2006                    7    manuell        0        a3   \n",
       "4                   2002                    7  automatik       41    fortwo   \n",
       "...                  ...                  ...        ...      ...       ...   \n",
       "9995                2005                    1    manuell       80     corsa   \n",
       "9996                2011                    6    manuell      140    touran   \n",
       "9997                1999                    0        NaN      101     astra   \n",
       "9998                2002                   10    manuell       58    twingo   \n",
       "9999                2012                    4    manuell      101    megane   \n",
       "\n",
       "      kilometer fuelType          brand vehicleType  \n",
       "0         60000   benzin           ford       kombi  \n",
       "1        125000      NaN            bmw      cabrio  \n",
       "2        150000   benzin  mercedes_benz       kombi  \n",
       "3        150000   diesel           audi   limousine  \n",
       "4        150000   diesel          smart      cabrio  \n",
       "...         ...      ...            ...         ...  \n",
       "9995     150000   benzin           opel  kleinwagen  \n",
       "9996     150000   diesel     volkswagen         bus  \n",
       "9997     150000      NaN           opel       kombi  \n",
       "9998     150000   benzin        renault  kleinwagen  \n",
       "9999      60000   benzin        renault   limousine  \n",
       "\n",
       "[10000 rows x 11 columns]"
      ]
     },
     "execution_count": 2,
     "metadata": {},
     "output_type": "execute_result"
    }
   ],
   "source": [
    "# 1. Load the cars dataset.\n",
    "df=pd.read_csv(\"C:\\\\Users\\\\91801\\\\Desktop\\\\skillovilla\\\\MACHINE LEARNING\\\\ASSIGNMENTS\\\\Linear regression-Assignment-1\\\\autos_small.csv\")\n",
    "df"
   ]
  },
  {
   "cell_type": "code",
   "execution_count": 3,
   "metadata": {
    "scrolled": true
   },
   "outputs": [
    {
     "name": "stdout",
     "output_type": "stream",
     "text": [
      "<class 'pandas.core.frame.DataFrame'>\n",
      "RangeIndex: 10000 entries, 0 to 9999\n",
      "Data columns (total 11 columns):\n",
      " #   Column               Non-Null Count  Dtype \n",
      "---  ------               --------------  ----- \n",
      " 0   price                10000 non-null  int64 \n",
      " 1   name                 10000 non-null  object\n",
      " 2   yearOfRegistration   10000 non-null  int64 \n",
      " 3   monthOfRegistration  10000 non-null  int64 \n",
      " 4   gearbox              9423 non-null   object\n",
      " 5   powerPS              10000 non-null  int64 \n",
      " 6   model                9433 non-null   object\n",
      " 7   kilometer            10000 non-null  int64 \n",
      " 8   fuelType             9057 non-null   object\n",
      " 9   brand                10000 non-null  object\n",
      " 10  vehicleType          8950 non-null   object\n",
      "dtypes: int64(5), object(6)\n",
      "memory usage: 859.5+ KB\n"
     ]
    }
   ],
   "source": [
    "df.info()"
   ]
  },
  {
   "cell_type": "code",
   "execution_count": 4,
   "metadata": {},
   "outputs": [
    {
     "data": {
      "text/html": [
       "<div>\n",
       "<style scoped>\n",
       "    .dataframe tbody tr th:only-of-type {\n",
       "        vertical-align: middle;\n",
       "    }\n",
       "\n",
       "    .dataframe tbody tr th {\n",
       "        vertical-align: top;\n",
       "    }\n",
       "\n",
       "    .dataframe thead th {\n",
       "        text-align: right;\n",
       "    }\n",
       "</style>\n",
       "<table border=\"1\" class=\"dataframe\">\n",
       "  <thead>\n",
       "    <tr style=\"text-align: right;\">\n",
       "      <th></th>\n",
       "      <th>price</th>\n",
       "      <th>name</th>\n",
       "      <th>yearOfRegistration</th>\n",
       "      <th>monthOfRegistration</th>\n",
       "      <th>gearbox</th>\n",
       "      <th>powerPS</th>\n",
       "      <th>model</th>\n",
       "      <th>kilometer</th>\n",
       "      <th>fuelType</th>\n",
       "      <th>brand</th>\n",
       "      <th>vehicleType</th>\n",
       "    </tr>\n",
       "  </thead>\n",
       "  <tbody>\n",
       "    <tr>\n",
       "      <th>0</th>\n",
       "      <td>400</td>\n",
       "      <td>Ford_Escort</td>\n",
       "      <td>1992</td>\n",
       "      <td>8</td>\n",
       "      <td>manuell</td>\n",
       "      <td>89</td>\n",
       "      <td>escort</td>\n",
       "      <td>60000</td>\n",
       "      <td>benzin</td>\n",
       "      <td>ford</td>\n",
       "      <td>kombi</td>\n",
       "    </tr>\n",
       "    <tr>\n",
       "      <th>1</th>\n",
       "      <td>3500</td>\n",
       "      <td>Bmw_320_cabrio</td>\n",
       "      <td>1996</td>\n",
       "      <td>0</td>\n",
       "      <td>manuell</td>\n",
       "      <td>150</td>\n",
       "      <td>3er</td>\n",
       "      <td>125000</td>\n",
       "      <td>NaN</td>\n",
       "      <td>bmw</td>\n",
       "      <td>cabrio</td>\n",
       "    </tr>\n",
       "    <tr>\n",
       "      <th>2</th>\n",
       "      <td>2200</td>\n",
       "      <td>Mercedes_C_230_T_im_top_Zustand_Tuev_Neu!!_Win...</td>\n",
       "      <td>1998</td>\n",
       "      <td>0</td>\n",
       "      <td>manuell</td>\n",
       "      <td>150</td>\n",
       "      <td>c_klasse</td>\n",
       "      <td>150000</td>\n",
       "      <td>benzin</td>\n",
       "      <td>mercedes_benz</td>\n",
       "      <td>kombi</td>\n",
       "    </tr>\n",
       "    <tr>\n",
       "      <th>3</th>\n",
       "      <td>4000</td>\n",
       "      <td>A3_Limousine</td>\n",
       "      <td>2006</td>\n",
       "      <td>7</td>\n",
       "      <td>manuell</td>\n",
       "      <td>0</td>\n",
       "      <td>a3</td>\n",
       "      <td>150000</td>\n",
       "      <td>diesel</td>\n",
       "      <td>audi</td>\n",
       "      <td>limousine</td>\n",
       "    </tr>\n",
       "    <tr>\n",
       "      <th>4</th>\n",
       "      <td>2600</td>\n",
       "      <td>Smart_Smart_cabrio_450_cdi</td>\n",
       "      <td>2002</td>\n",
       "      <td>7</td>\n",
       "      <td>automatik</td>\n",
       "      <td>41</td>\n",
       "      <td>fortwo</td>\n",
       "      <td>150000</td>\n",
       "      <td>diesel</td>\n",
       "      <td>smart</td>\n",
       "      <td>cabrio</td>\n",
       "    </tr>\n",
       "  </tbody>\n",
       "</table>\n",
       "</div>"
      ],
      "text/plain": [
       "   price                                               name  \\\n",
       "0    400                                        Ford_Escort   \n",
       "1   3500                                     Bmw_320_cabrio   \n",
       "2   2200  Mercedes_C_230_T_im_top_Zustand_Tuev_Neu!!_Win...   \n",
       "3   4000                                       A3_Limousine   \n",
       "4   2600                         Smart_Smart_cabrio_450_cdi   \n",
       "\n",
       "   yearOfRegistration  monthOfRegistration    gearbox  powerPS     model  \\\n",
       "0                1992                    8    manuell       89    escort   \n",
       "1                1996                    0    manuell      150       3er   \n",
       "2                1998                    0    manuell      150  c_klasse   \n",
       "3                2006                    7    manuell        0        a3   \n",
       "4                2002                    7  automatik       41    fortwo   \n",
       "\n",
       "   kilometer fuelType          brand vehicleType  \n",
       "0      60000   benzin           ford       kombi  \n",
       "1     125000      NaN            bmw      cabrio  \n",
       "2     150000   benzin  mercedes_benz       kombi  \n",
       "3     150000   diesel           audi   limousine  \n",
       "4     150000   diesel          smart      cabrio  "
      ]
     },
     "execution_count": 4,
     "metadata": {},
     "output_type": "execute_result"
    }
   ],
   "source": [
    "df.head()"
   ]
  },
  {
   "cell_type": "code",
   "execution_count": 5,
   "metadata": {},
   "outputs": [
    {
     "data": {
      "text/plain": [
       "(10000, 11)"
      ]
     },
     "execution_count": 5,
     "metadata": {},
     "output_type": "execute_result"
    }
   ],
   "source": [
    "df.shape"
   ]
  },
  {
   "cell_type": "code",
   "execution_count": 6,
   "metadata": {
    "scrolled": true
   },
   "outputs": [
    {
     "data": {
      "text/html": [
       "<div>\n",
       "<style scoped>\n",
       "    .dataframe tbody tr th:only-of-type {\n",
       "        vertical-align: middle;\n",
       "    }\n",
       "\n",
       "    .dataframe tbody tr th {\n",
       "        vertical-align: top;\n",
       "    }\n",
       "\n",
       "    .dataframe thead th {\n",
       "        text-align: right;\n",
       "    }\n",
       "</style>\n",
       "<table border=\"1\" class=\"dataframe\">\n",
       "  <thead>\n",
       "    <tr style=\"text-align: right;\">\n",
       "      <th></th>\n",
       "      <th>count</th>\n",
       "      <th>mean</th>\n",
       "      <th>std</th>\n",
       "      <th>min</th>\n",
       "      <th>25%</th>\n",
       "      <th>50%</th>\n",
       "      <th>75%</th>\n",
       "      <th>max</th>\n",
       "    </tr>\n",
       "  </thead>\n",
       "  <tbody>\n",
       "    <tr>\n",
       "      <th>price</th>\n",
       "      <td>10000.0</td>\n",
       "      <td>7056.7046</td>\n",
       "      <td>123750.134822</td>\n",
       "      <td>0.0</td>\n",
       "      <td>1150.0</td>\n",
       "      <td>2999.0</td>\n",
       "      <td>7250.0</td>\n",
       "      <td>12345678.0</td>\n",
       "    </tr>\n",
       "    <tr>\n",
       "      <th>yearOfRegistration</th>\n",
       "      <td>10000.0</td>\n",
       "      <td>2003.6374</td>\n",
       "      <td>40.424633</td>\n",
       "      <td>1000.0</td>\n",
       "      <td>1999.0</td>\n",
       "      <td>2004.0</td>\n",
       "      <td>2008.0</td>\n",
       "      <td>5000.0</td>\n",
       "    </tr>\n",
       "    <tr>\n",
       "      <th>monthOfRegistration</th>\n",
       "      <td>10000.0</td>\n",
       "      <td>5.7376</td>\n",
       "      <td>3.706794</td>\n",
       "      <td>0.0</td>\n",
       "      <td>3.0</td>\n",
       "      <td>6.0</td>\n",
       "      <td>9.0</td>\n",
       "      <td>12.0</td>\n",
       "    </tr>\n",
       "    <tr>\n",
       "      <th>powerPS</th>\n",
       "      <td>10000.0</td>\n",
       "      <td>122.0189</td>\n",
       "      <td>342.097210</td>\n",
       "      <td>0.0</td>\n",
       "      <td>69.0</td>\n",
       "      <td>105.0</td>\n",
       "      <td>150.0</td>\n",
       "      <td>17322.0</td>\n",
       "    </tr>\n",
       "    <tr>\n",
       "      <th>kilometer</th>\n",
       "      <td>10000.0</td>\n",
       "      <td>125034.0000</td>\n",
       "      <td>40581.689607</td>\n",
       "      <td>5000.0</td>\n",
       "      <td>100000.0</td>\n",
       "      <td>150000.0</td>\n",
       "      <td>150000.0</td>\n",
       "      <td>150000.0</td>\n",
       "    </tr>\n",
       "  </tbody>\n",
       "</table>\n",
       "</div>"
      ],
      "text/plain": [
       "                       count         mean            std     min       25%  \\\n",
       "price                10000.0    7056.7046  123750.134822     0.0    1150.0   \n",
       "yearOfRegistration   10000.0    2003.6374      40.424633  1000.0    1999.0   \n",
       "monthOfRegistration  10000.0       5.7376       3.706794     0.0       3.0   \n",
       "powerPS              10000.0     122.0189     342.097210     0.0      69.0   \n",
       "kilometer            10000.0  125034.0000   40581.689607  5000.0  100000.0   \n",
       "\n",
       "                          50%       75%         max  \n",
       "price                  2999.0    7250.0  12345678.0  \n",
       "yearOfRegistration     2004.0    2008.0      5000.0  \n",
       "monthOfRegistration       6.0       9.0        12.0  \n",
       "powerPS                 105.0     150.0     17322.0  \n",
       "kilometer            150000.0  150000.0    150000.0  "
      ]
     },
     "execution_count": 6,
     "metadata": {},
     "output_type": "execute_result"
    }
   ],
   "source": [
    "df.describe().transpose()"
   ]
  },
  {
   "cell_type": "markdown",
   "metadata": {},
   "source": [
    "**1-here we can see clear outliers in price,yearOfRegistration columns<br>\n",
    "   2-There are some columns which are categorcal we need to encode them for further data processing and model creation**\n"
   ]
  },
  {
   "cell_type": "code",
   "execution_count": 7,
   "metadata": {},
   "outputs": [],
   "source": [
    "df_ref=df.copy()"
   ]
  },
  {
   "cell_type": "markdown",
   "metadata": {},
   "source": [
    "## Removing Outliers "
   ]
  },
  {
   "cell_type": "code",
   "execution_count": 8,
   "metadata": {},
   "outputs": [
    {
     "name": "stdout",
     "output_type": "stream",
     "text": [
      "capping the  price\n",
      "capping the  name\n",
      "capping the  yearOfRegistration\n",
      "capping the  monthOfRegistration\n",
      "capping the  gearbox\n",
      "capping the  powerPS\n",
      "capping the  model\n",
      "capping the  kilometer\n",
      "capping the  fuelType\n",
      "capping the  brand\n",
      "capping the  vehicleType\n"
     ]
    }
   ],
   "source": [
    "## We are removing extreme outliers from our dataframe\n",
    "def cap_data(df):\n",
    "    for col in df.columns:\n",
    "        print(\"capping the \",col)\n",
    "        if (((df[col].dtype)=='float64') | ((df[col].dtype)=='int64')):\n",
    "            percentiles = df[col].quantile([0.01,0.99]).values\n",
    "            df[col][df[col] <= percentiles[0]] = percentiles[0]\n",
    "            df[col][df[col] >= percentiles[1]] = percentiles[1]\n",
    "        else:\n",
    "            df[col]=df[col]\n",
    "    return df\n",
    "\n",
    "df_cars=cap_data(df)"
   ]
  },
  {
   "cell_type": "code",
   "execution_count": 9,
   "metadata": {},
   "outputs": [
    {
     "data": {
      "text/html": [
       "<div>\n",
       "<style scoped>\n",
       "    .dataframe tbody tr th:only-of-type {\n",
       "        vertical-align: middle;\n",
       "    }\n",
       "\n",
       "    .dataframe tbody tr th {\n",
       "        vertical-align: top;\n",
       "    }\n",
       "\n",
       "    .dataframe thead th {\n",
       "        text-align: right;\n",
       "    }\n",
       "</style>\n",
       "<table border=\"1\" class=\"dataframe\">\n",
       "  <thead>\n",
       "    <tr style=\"text-align: right;\">\n",
       "      <th></th>\n",
       "      <th>count</th>\n",
       "      <th>mean</th>\n",
       "      <th>std</th>\n",
       "      <th>min</th>\n",
       "      <th>25%</th>\n",
       "      <th>50%</th>\n",
       "      <th>75%</th>\n",
       "      <th>max</th>\n",
       "    </tr>\n",
       "  </thead>\n",
       "  <tbody>\n",
       "    <tr>\n",
       "      <th>price</th>\n",
       "      <td>10000.0</td>\n",
       "      <td>5560.0</td>\n",
       "      <td>6787.0</td>\n",
       "      <td>0.0</td>\n",
       "      <td>1150.0</td>\n",
       "      <td>2999.0</td>\n",
       "      <td>7250.0</td>\n",
       "      <td>36005.0</td>\n",
       "    </tr>\n",
       "    <tr>\n",
       "      <th>yearOfRegistration</th>\n",
       "      <td>10000.0</td>\n",
       "      <td>2004.0</td>\n",
       "      <td>7.0</td>\n",
       "      <td>1979.0</td>\n",
       "      <td>1999.0</td>\n",
       "      <td>2004.0</td>\n",
       "      <td>2008.0</td>\n",
       "      <td>2018.0</td>\n",
       "    </tr>\n",
       "    <tr>\n",
       "      <th>monthOfRegistration</th>\n",
       "      <td>10000.0</td>\n",
       "      <td>6.0</td>\n",
       "      <td>4.0</td>\n",
       "      <td>0.0</td>\n",
       "      <td>3.0</td>\n",
       "      <td>6.0</td>\n",
       "      <td>9.0</td>\n",
       "      <td>12.0</td>\n",
       "    </tr>\n",
       "    <tr>\n",
       "      <th>powerPS</th>\n",
       "      <td>10000.0</td>\n",
       "      <td>112.0</td>\n",
       "      <td>69.0</td>\n",
       "      <td>0.0</td>\n",
       "      <td>69.0</td>\n",
       "      <td>105.0</td>\n",
       "      <td>150.0</td>\n",
       "      <td>344.0</td>\n",
       "    </tr>\n",
       "    <tr>\n",
       "      <th>kilometer</th>\n",
       "      <td>10000.0</td>\n",
       "      <td>125034.0</td>\n",
       "      <td>40582.0</td>\n",
       "      <td>5000.0</td>\n",
       "      <td>100000.0</td>\n",
       "      <td>150000.0</td>\n",
       "      <td>150000.0</td>\n",
       "      <td>150000.0</td>\n",
       "    </tr>\n",
       "  </tbody>\n",
       "</table>\n",
       "</div>"
      ],
      "text/plain": [
       "                       count      mean      std     min       25%       50%  \\\n",
       "price                10000.0    5560.0   6787.0     0.0    1150.0    2999.0   \n",
       "yearOfRegistration   10000.0    2004.0      7.0  1979.0    1999.0    2004.0   \n",
       "monthOfRegistration  10000.0       6.0      4.0     0.0       3.0       6.0   \n",
       "powerPS              10000.0     112.0     69.0     0.0      69.0     105.0   \n",
       "kilometer            10000.0  125034.0  40582.0  5000.0  100000.0  150000.0   \n",
       "\n",
       "                          75%       max  \n",
       "price                  7250.0   36005.0  \n",
       "yearOfRegistration     2008.0    2018.0  \n",
       "monthOfRegistration       9.0      12.0  \n",
       "powerPS                 150.0     344.0  \n",
       "kilometer            150000.0  150000.0  "
      ]
     },
     "execution_count": 9,
     "metadata": {},
     "output_type": "execute_result"
    }
   ],
   "source": [
    "df_cars.describe().round().transpose()"
   ]
  },
  {
   "cell_type": "code",
   "execution_count": 10,
   "metadata": {
    "scrolled": false
   },
   "outputs": [
    {
     "data": {
      "text/plain": [
       "<AxesSubplot:>"
      ]
     },
     "execution_count": 10,
     "metadata": {},
     "output_type": "execute_result"
    },
    {
     "data": {
      "image/png": "[encoded data removed]",
      "text/plain": [
       "<Figure size 864x576 with 1 Axes>"
      ]
     },
     "metadata": {
      "needs_background": "light"
     },
     "output_type": "display_data"
    }
   ],
   "source": [
    "plt.figure(figsize=(12,8))\n",
    "df_cars.boxplot()"
   ]
  },
  {
   "cell_type": "code",
   "execution_count": 11,
   "metadata": {},
   "outputs": [
    {
     "data": {
      "text/plain": [
       "array([[<AxesSubplot:title={'center':'price'}>,\n",
       "        <AxesSubplot:title={'center':'yearOfRegistration'}>],\n",
       "       [<AxesSubplot:title={'center':'monthOfRegistration'}>,\n",
       "        <AxesSubplot:title={'center':'powerPS'}>],\n",
       "       [<AxesSubplot:title={'center':'kilometer'}>, <AxesSubplot:>]],\n",
       "      dtype=object)"
      ]
     },
     "execution_count": 11,
     "metadata": {},
     "output_type": "execute_result"
    },
    {
     "data": {
      "image/png": "[encoded data removed]",
      "text/plain": [
       "<Figure size 432x288 with 6 Axes>"
      ]
     },
     "metadata": {
      "needs_background": "light"
     },
     "output_type": "display_data"
    }
   ],
   "source": [
    "\n",
    "df_cars.hist()"
   ]
  },
  {
   "cell_type": "code",
   "execution_count": 12,
   "metadata": {
    "colab": {},
    "colab_type": "code",
    "id": "knCBUJ1axagO",
    "scrolled": true
   },
   "outputs": [
    {
     "data": {
      "text/plain": [
       "price                     0\n",
       "name                      0\n",
       "yearOfRegistration        0\n",
       "monthOfRegistration       0\n",
       "gearbox                 577\n",
       "powerPS                   0\n",
       "model                   567\n",
       "kilometer                 0\n",
       "fuelType                943\n",
       "brand                     0\n",
       "vehicleType            1050\n",
       "dtype: int64"
      ]
     },
     "execution_count": 12,
     "metadata": {},
     "output_type": "execute_result"
    }
   ],
   "source": [
    "# 2. Figure out the best strategy to fill missing values\n",
    "df_cars.isnull().sum()#checking missing values for each column"
   ]
  },
  {
   "cell_type": "code",
   "execution_count": 13,
   "metadata": {},
   "outputs": [
    {
     "data": {
      "text/plain": [
       "array(['manuell', 'automatik', nan], dtype=object)"
      ]
     },
     "execution_count": 13,
     "metadata": {},
     "output_type": "execute_result"
    }
   ],
   "source": [
    "# lets see how many distinct values are there in gearbox column\n",
    "df_cars.gearbox.unique()                "
   ]
  },
  {
   "cell_type": "markdown",
   "metadata": {},
   "source": [
    "***We don't need model,monthOfRegistration,yearOfRegistration,name,vehicleType columns***"
   ]
  },
  {
   "cell_type": "code",
   "execution_count": 14,
   "metadata": {},
   "outputs": [],
   "source": [
    "# we are considering total years from registration years till now in new column as 'tot_years'\n",
    "df_cars['tot_years']=2022-df_cars['yearOfRegistration']"
   ]
  },
  {
   "cell_type": "code",
   "execution_count": 15,
   "metadata": {},
   "outputs": [],
   "source": [
    "drop_li=['model','monthOfRegistration','yearOfRegistration','name','vehicleType']"
   ]
  },
  {
   "cell_type": "code",
   "execution_count": 16,
   "metadata": {},
   "outputs": [],
   "source": [
    "df_cars=df.drop(drop_li,axis=1)# we are dropping some of columns which are not significant "
   ]
  },
  {
   "cell_type": "code",
   "execution_count": 17,
   "metadata": {
    "scrolled": true
   },
   "outputs": [
    {
     "data": {
      "text/html": [
       "<div>\n",
       "<style scoped>\n",
       "    .dataframe tbody tr th:only-of-type {\n",
       "        vertical-align: middle;\n",
       "    }\n",
       "\n",
       "    .dataframe tbody tr th {\n",
       "        vertical-align: top;\n",
       "    }\n",
       "\n",
       "    .dataframe thead th {\n",
       "        text-align: right;\n",
       "    }\n",
       "</style>\n",
       "<table border=\"1\" class=\"dataframe\">\n",
       "  <thead>\n",
       "    <tr style=\"text-align: right;\">\n",
       "      <th></th>\n",
       "      <th>price</th>\n",
       "      <th>gearbox</th>\n",
       "      <th>powerPS</th>\n",
       "      <th>kilometer</th>\n",
       "      <th>fuelType</th>\n",
       "      <th>brand</th>\n",
       "      <th>tot_years</th>\n",
       "    </tr>\n",
       "  </thead>\n",
       "  <tbody>\n",
       "    <tr>\n",
       "      <th>0</th>\n",
       "      <td>400.0</td>\n",
       "      <td>manuell</td>\n",
       "      <td>89</td>\n",
       "      <td>60000</td>\n",
       "      <td>benzin</td>\n",
       "      <td>ford</td>\n",
       "      <td>30</td>\n",
       "    </tr>\n",
       "    <tr>\n",
       "      <th>1</th>\n",
       "      <td>3500.0</td>\n",
       "      <td>manuell</td>\n",
       "      <td>150</td>\n",
       "      <td>125000</td>\n",
       "      <td>NaN</td>\n",
       "      <td>bmw</td>\n",
       "      <td>26</td>\n",
       "    </tr>\n",
       "    <tr>\n",
       "      <th>2</th>\n",
       "      <td>2200.0</td>\n",
       "      <td>manuell</td>\n",
       "      <td>150</td>\n",
       "      <td>150000</td>\n",
       "      <td>benzin</td>\n",
       "      <td>mercedes_benz</td>\n",
       "      <td>24</td>\n",
       "    </tr>\n",
       "    <tr>\n",
       "      <th>3</th>\n",
       "      <td>4000.0</td>\n",
       "      <td>manuell</td>\n",
       "      <td>0</td>\n",
       "      <td>150000</td>\n",
       "      <td>diesel</td>\n",
       "      <td>audi</td>\n",
       "      <td>16</td>\n",
       "    </tr>\n",
       "    <tr>\n",
       "      <th>4</th>\n",
       "      <td>2600.0</td>\n",
       "      <td>automatik</td>\n",
       "      <td>41</td>\n",
       "      <td>150000</td>\n",
       "      <td>diesel</td>\n",
       "      <td>smart</td>\n",
       "      <td>20</td>\n",
       "    </tr>\n",
       "  </tbody>\n",
       "</table>\n",
       "</div>"
      ],
      "text/plain": [
       "    price    gearbox  powerPS  kilometer fuelType          brand  tot_years\n",
       "0   400.0    manuell       89      60000   benzin           ford         30\n",
       "1  3500.0    manuell      150     125000      NaN            bmw         26\n",
       "2  2200.0    manuell      150     150000   benzin  mercedes_benz         24\n",
       "3  4000.0    manuell        0     150000   diesel           audi         16\n",
       "4  2600.0  automatik       41     150000   diesel          smart         20"
      ]
     },
     "execution_count": 17,
     "metadata": {},
     "output_type": "execute_result"
    }
   ],
   "source": [
    "df_cars.head()\n"
   ]
  },
  {
   "cell_type": "code",
   "execution_count": 18,
   "metadata": {
    "scrolled": true
   },
   "outputs": [
    {
     "data": {
      "text/html": [
       "<div>\n",
       "<style scoped>\n",
       "    .dataframe tbody tr th:only-of-type {\n",
       "        vertical-align: middle;\n",
       "    }\n",
       "\n",
       "    .dataframe tbody tr th {\n",
       "        vertical-align: top;\n",
       "    }\n",
       "\n",
       "    .dataframe thead th {\n",
       "        text-align: right;\n",
       "    }\n",
       "</style>\n",
       "<table border=\"1\" class=\"dataframe\">\n",
       "  <thead>\n",
       "    <tr style=\"text-align: right;\">\n",
       "      <th></th>\n",
       "      <th>count</th>\n",
       "      <th>mean</th>\n",
       "      <th>std</th>\n",
       "      <th>min</th>\n",
       "      <th>25%</th>\n",
       "      <th>50%</th>\n",
       "      <th>75%</th>\n",
       "      <th>max</th>\n",
       "    </tr>\n",
       "  </thead>\n",
       "  <tbody>\n",
       "    <tr>\n",
       "      <th>price</th>\n",
       "      <td>10000.0</td>\n",
       "      <td>5560.0</td>\n",
       "      <td>6787.0</td>\n",
       "      <td>0.0</td>\n",
       "      <td>1150.0</td>\n",
       "      <td>2999.0</td>\n",
       "      <td>7250.0</td>\n",
       "      <td>36005.0</td>\n",
       "    </tr>\n",
       "    <tr>\n",
       "      <th>powerPS</th>\n",
       "      <td>10000.0</td>\n",
       "      <td>112.0</td>\n",
       "      <td>69.0</td>\n",
       "      <td>0.0</td>\n",
       "      <td>69.0</td>\n",
       "      <td>105.0</td>\n",
       "      <td>150.0</td>\n",
       "      <td>344.0</td>\n",
       "    </tr>\n",
       "    <tr>\n",
       "      <th>kilometer</th>\n",
       "      <td>10000.0</td>\n",
       "      <td>125034.0</td>\n",
       "      <td>40582.0</td>\n",
       "      <td>5000.0</td>\n",
       "      <td>100000.0</td>\n",
       "      <td>150000.0</td>\n",
       "      <td>150000.0</td>\n",
       "      <td>150000.0</td>\n",
       "    </tr>\n",
       "    <tr>\n",
       "      <th>tot_years</th>\n",
       "      <td>10000.0</td>\n",
       "      <td>18.0</td>\n",
       "      <td>7.0</td>\n",
       "      <td>4.0</td>\n",
       "      <td>14.0</td>\n",
       "      <td>18.0</td>\n",
       "      <td>23.0</td>\n",
       "      <td>43.0</td>\n",
       "    </tr>\n",
       "  </tbody>\n",
       "</table>\n",
       "</div>"
      ],
      "text/plain": [
       "             count      mean      std     min       25%       50%       75%  \\\n",
       "price      10000.0    5560.0   6787.0     0.0    1150.0    2999.0    7250.0   \n",
       "powerPS    10000.0     112.0     69.0     0.0      69.0     105.0     150.0   \n",
       "kilometer  10000.0  125034.0  40582.0  5000.0  100000.0  150000.0  150000.0   \n",
       "tot_years  10000.0      18.0      7.0     4.0      14.0      18.0      23.0   \n",
       "\n",
       "                max  \n",
       "price       36005.0  \n",
       "powerPS       344.0  \n",
       "kilometer  150000.0  \n",
       "tot_years      43.0  "
      ]
     },
     "execution_count": 18,
     "metadata": {},
     "output_type": "execute_result"
    }
   ],
   "source": [
    "df_cars.describe().round().transpose()"
   ]
  },
  {
   "cell_type": "code",
   "execution_count": 19,
   "metadata": {},
   "outputs": [
    {
     "data": {
      "text/html": [
       "<div>\n",
       "<style scoped>\n",
       "    .dataframe tbody tr th:only-of-type {\n",
       "        vertical-align: middle;\n",
       "    }\n",
       "\n",
       "    .dataframe tbody tr th {\n",
       "        vertical-align: top;\n",
       "    }\n",
       "\n",
       "    .dataframe thead th {\n",
       "        text-align: right;\n",
       "    }\n",
       "</style>\n",
       "<table border=\"1\" class=\"dataframe\">\n",
       "  <thead>\n",
       "    <tr style=\"text-align: right;\">\n",
       "      <th></th>\n",
       "      <th>price</th>\n",
       "      <th>powerPS</th>\n",
       "      <th>kilometer</th>\n",
       "      <th>tot_years</th>\n",
       "    </tr>\n",
       "  </thead>\n",
       "  <tbody>\n",
       "    <tr>\n",
       "      <th>price</th>\n",
       "      <td>1.000000</td>\n",
       "      <td>0.545946</td>\n",
       "      <td>-0.418531</td>\n",
       "      <td>-0.380321</td>\n",
       "    </tr>\n",
       "    <tr>\n",
       "      <th>powerPS</th>\n",
       "      <td>0.545946</td>\n",
       "      <td>1.000000</td>\n",
       "      <td>0.000647</td>\n",
       "      <td>-0.159468</td>\n",
       "    </tr>\n",
       "    <tr>\n",
       "      <th>kilometer</th>\n",
       "      <td>-0.418531</td>\n",
       "      <td>0.000647</td>\n",
       "      <td>1.000000</td>\n",
       "      <td>0.252886</td>\n",
       "    </tr>\n",
       "    <tr>\n",
       "      <th>tot_years</th>\n",
       "      <td>-0.380321</td>\n",
       "      <td>-0.159468</td>\n",
       "      <td>0.252886</td>\n",
       "      <td>1.000000</td>\n",
       "    </tr>\n",
       "  </tbody>\n",
       "</table>\n",
       "</div>"
      ],
      "text/plain": [
       "              price   powerPS  kilometer  tot_years\n",
       "price      1.000000  0.545946  -0.418531  -0.380321\n",
       "powerPS    0.545946  1.000000   0.000647  -0.159468\n",
       "kilometer -0.418531  0.000647   1.000000   0.252886\n",
       "tot_years -0.380321 -0.159468   0.252886   1.000000"
      ]
     },
     "execution_count": 19,
     "metadata": {},
     "output_type": "execute_result"
    }
   ],
   "source": [
    "df_cars.corr()"
   ]
  },
  {
   "cell_type": "code",
   "execution_count": 20,
   "metadata": {
    "scrolled": false
   },
   "outputs": [
    {
     "data": {
      "text/plain": [
       "price          0\n",
       "gearbox      577\n",
       "powerPS        0\n",
       "kilometer      0\n",
       "fuelType     943\n",
       "brand          0\n",
       "tot_years      0\n",
       "dtype: int64"
      ]
     },
     "execution_count": 20,
     "metadata": {},
     "output_type": "execute_result"
    }
   ],
   "source": [
    "df_cars.isnull().sum()"
   ]
  },
  {
   "cell_type": "markdown",
   "metadata": {},
   "source": [
    "# Value Imputation using Groupby and Transform function"
   ]
  },
  {
   "cell_type": "code",
   "execution_count": 21,
   "metadata": {},
   "outputs": [],
   "source": [
    "df_cars = df_cars[df_cars['gearbox'].notna()]"
   ]
  },
  {
   "cell_type": "code",
   "execution_count": 22,
   "metadata": {
    "scrolled": true
   },
   "outputs": [],
   "source": [
    "df_cars['fuelType'] = df_cars.groupby('brand').fuelType.transform(lambda x: x.value_counts().idxmax())"
   ]
  },
  {
   "cell_type": "code",
   "execution_count": 23,
   "metadata": {},
   "outputs": [
    {
     "data": {
      "text/plain": [
       "price        0\n",
       "gearbox      0\n",
       "powerPS      0\n",
       "kilometer    0\n",
       "fuelType     0\n",
       "brand        0\n",
       "tot_years    0\n",
       "dtype: int64"
      ]
     },
     "execution_count": 23,
     "metadata": {},
     "output_type": "execute_result"
    }
   ],
   "source": [
    "df_cars.isnull().sum()"
   ]
  },
  {
   "cell_type": "code",
   "execution_count": 24,
   "metadata": {
    "scrolled": false
   },
   "outputs": [
    {
     "data": {
      "text/plain": [
       "<AxesSubplot:xlabel='fuelType', ylabel='count'>"
      ]
     },
     "execution_count": 24,
     "metadata": {},
     "output_type": "execute_result"
    },
    {
     "data": {
      "image/png": "[encoded data removed]",
      "text/plain": [
       "<Figure size 432x288 with 1 Axes>"
      ]
     },
     "metadata": {
      "needs_background": "light"
     },
     "output_type": "display_data"
    }
   ],
   "source": [
    "sns.countplot(data=df_cars,x='fuelType',hue='gearbox')"
   ]
  },
  {
   "cell_type": "code",
   "execution_count": 25,
   "metadata": {
    "scrolled": false
   },
   "outputs": [
    {
     "data": {
      "text/html": [
       "<div>\n",
       "<style scoped>\n",
       "    .dataframe tbody tr th:only-of-type {\n",
       "        vertical-align: middle;\n",
       "    }\n",
       "\n",
       "    .dataframe tbody tr th {\n",
       "        vertical-align: top;\n",
       "    }\n",
       "\n",
       "    .dataframe thead th {\n",
       "        text-align: right;\n",
       "    }\n",
       "</style>\n",
       "<table border=\"1\" class=\"dataframe\">\n",
       "  <thead>\n",
       "    <tr style=\"text-align: right;\">\n",
       "      <th></th>\n",
       "      <th>price</th>\n",
       "      <th>gearbox</th>\n",
       "      <th>powerPS</th>\n",
       "      <th>kilometer</th>\n",
       "      <th>fuelType</th>\n",
       "      <th>brand</th>\n",
       "      <th>tot_years</th>\n",
       "    </tr>\n",
       "  </thead>\n",
       "  <tbody>\n",
       "    <tr>\n",
       "      <th>0</th>\n",
       "      <td>400.0</td>\n",
       "      <td>manuell</td>\n",
       "      <td>89</td>\n",
       "      <td>60000</td>\n",
       "      <td>benzin</td>\n",
       "      <td>ford</td>\n",
       "      <td>30</td>\n",
       "    </tr>\n",
       "    <tr>\n",
       "      <th>1</th>\n",
       "      <td>3500.0</td>\n",
       "      <td>manuell</td>\n",
       "      <td>150</td>\n",
       "      <td>125000</td>\n",
       "      <td>benzin</td>\n",
       "      <td>bmw</td>\n",
       "      <td>26</td>\n",
       "    </tr>\n",
       "    <tr>\n",
       "      <th>2</th>\n",
       "      <td>2200.0</td>\n",
       "      <td>manuell</td>\n",
       "      <td>150</td>\n",
       "      <td>150000</td>\n",
       "      <td>benzin</td>\n",
       "      <td>mercedes_benz</td>\n",
       "      <td>24</td>\n",
       "    </tr>\n",
       "    <tr>\n",
       "      <th>3</th>\n",
       "      <td>4000.0</td>\n",
       "      <td>manuell</td>\n",
       "      <td>0</td>\n",
       "      <td>150000</td>\n",
       "      <td>benzin</td>\n",
       "      <td>audi</td>\n",
       "      <td>16</td>\n",
       "    </tr>\n",
       "    <tr>\n",
       "      <th>4</th>\n",
       "      <td>2600.0</td>\n",
       "      <td>automatik</td>\n",
       "      <td>41</td>\n",
       "      <td>150000</td>\n",
       "      <td>benzin</td>\n",
       "      <td>smart</td>\n",
       "      <td>20</td>\n",
       "    </tr>\n",
       "  </tbody>\n",
       "</table>\n",
       "</div>"
      ],
      "text/plain": [
       "    price    gearbox  powerPS  kilometer fuelType          brand  tot_years\n",
       "0   400.0    manuell       89      60000   benzin           ford         30\n",
       "1  3500.0    manuell      150     125000   benzin            bmw         26\n",
       "2  2200.0    manuell      150     150000   benzin  mercedes_benz         24\n",
       "3  4000.0    manuell        0     150000   benzin           audi         16\n",
       "4  2600.0  automatik       41     150000   benzin          smart         20"
      ]
     },
     "execution_count": 25,
     "metadata": {},
     "output_type": "execute_result"
    }
   ],
   "source": [
    "df_cars.head()"
   ]
  },
  {
   "cell_type": "code",
   "execution_count": 26,
   "metadata": {},
   "outputs": [
    {
     "data": {
      "text/plain": [
       "(9423, 7)"
      ]
     },
     "execution_count": 26,
     "metadata": {},
     "output_type": "execute_result"
    }
   ],
   "source": [
    "df_cars.shape"
   ]
  },
  {
   "cell_type": "markdown",
   "metadata": {},
   "source": [
    "###  Now we have kind of Clean Dataset where we dont have any missing values in important columns"
   ]
  },
  {
   "cell_type": "code",
   "execution_count": 27,
   "metadata": {
    "colab": {},
    "colab_type": "code",
    "id": "RB1wjuqdxagQ"
   },
   "outputs": [],
   "source": [
    "# 3. Complete any other preprocessing required."
   ]
  },
  {
   "cell_type": "code",
   "execution_count": 28,
   "metadata": {},
   "outputs": [
    {
     "data": {
      "text/plain": [
       "price        float64\n",
       "gearbox       object\n",
       "powerPS        int64\n",
       "kilometer      int64\n",
       "fuelType      object\n",
       "brand         object\n",
       "tot_years      int64\n",
       "dtype: object"
      ]
     },
     "execution_count": 28,
     "metadata": {},
     "output_type": "execute_result"
    }
   ],
   "source": [
    "df_cars.dtypes"
   ]
  },
  {
   "cell_type": "code",
   "execution_count": 29,
   "metadata": {
    "scrolled": true
   },
   "outputs": [
    {
     "data": {
      "text/html": [
       "<div>\n",
       "<style scoped>\n",
       "    .dataframe tbody tr th:only-of-type {\n",
       "        vertical-align: middle;\n",
       "    }\n",
       "\n",
       "    .dataframe tbody tr th {\n",
       "        vertical-align: top;\n",
       "    }\n",
       "\n",
       "    .dataframe thead th {\n",
       "        text-align: right;\n",
       "    }\n",
       "</style>\n",
       "<table border=\"1\" class=\"dataframe\">\n",
       "  <thead>\n",
       "    <tr style=\"text-align: right;\">\n",
       "      <th></th>\n",
       "      <th>price</th>\n",
       "      <th>gearbox</th>\n",
       "      <th>powerPS</th>\n",
       "      <th>kilometer</th>\n",
       "      <th>fuelType</th>\n",
       "      <th>brand</th>\n",
       "      <th>tot_years</th>\n",
       "    </tr>\n",
       "  </thead>\n",
       "  <tbody>\n",
       "    <tr>\n",
       "      <th>828</th>\n",
       "      <td>1200.0</td>\n",
       "      <td>manuell</td>\n",
       "      <td>0</td>\n",
       "      <td>150000</td>\n",
       "      <td>benzin</td>\n",
       "      <td>volkswagen</td>\n",
       "      <td>23</td>\n",
       "    </tr>\n",
       "    <tr>\n",
       "      <th>1447</th>\n",
       "      <td>4450.0</td>\n",
       "      <td>manuell</td>\n",
       "      <td>136</td>\n",
       "      <td>150000</td>\n",
       "      <td>benzin</td>\n",
       "      <td>peugeot</td>\n",
       "      <td>16</td>\n",
       "    </tr>\n",
       "    <tr>\n",
       "      <th>1617</th>\n",
       "      <td>10500.0</td>\n",
       "      <td>manuell</td>\n",
       "      <td>143</td>\n",
       "      <td>150000</td>\n",
       "      <td>benzin</td>\n",
       "      <td>audi</td>\n",
       "      <td>14</td>\n",
       "    </tr>\n",
       "    <tr>\n",
       "      <th>1686</th>\n",
       "      <td>800.0</td>\n",
       "      <td>manuell</td>\n",
       "      <td>147</td>\n",
       "      <td>150000</td>\n",
       "      <td>benzin</td>\n",
       "      <td>opel</td>\n",
       "      <td>21</td>\n",
       "    </tr>\n",
       "    <tr>\n",
       "      <th>1872</th>\n",
       "      <td>3990.0</td>\n",
       "      <td>manuell</td>\n",
       "      <td>116</td>\n",
       "      <td>150000</td>\n",
       "      <td>benzin</td>\n",
       "      <td>volkswagen</td>\n",
       "      <td>19</td>\n",
       "    </tr>\n",
       "    <tr>\n",
       "      <th>...</th>\n",
       "      <td>...</td>\n",
       "      <td>...</td>\n",
       "      <td>...</td>\n",
       "      <td>...</td>\n",
       "      <td>...</td>\n",
       "      <td>...</td>\n",
       "      <td>...</td>\n",
       "    </tr>\n",
       "    <tr>\n",
       "      <th>9889</th>\n",
       "      <td>400.0</td>\n",
       "      <td>manuell</td>\n",
       "      <td>75</td>\n",
       "      <td>150000</td>\n",
       "      <td>benzin</td>\n",
       "      <td>volkswagen</td>\n",
       "      <td>26</td>\n",
       "    </tr>\n",
       "    <tr>\n",
       "      <th>9893</th>\n",
       "      <td>2000.0</td>\n",
       "      <td>manuell</td>\n",
       "      <td>60</td>\n",
       "      <td>150000</td>\n",
       "      <td>benzin</td>\n",
       "      <td>opel</td>\n",
       "      <td>19</td>\n",
       "    </tr>\n",
       "    <tr>\n",
       "      <th>9916</th>\n",
       "      <td>3350.0</td>\n",
       "      <td>manuell</td>\n",
       "      <td>116</td>\n",
       "      <td>150000</td>\n",
       "      <td>benzin</td>\n",
       "      <td>volkswagen</td>\n",
       "      <td>21</td>\n",
       "    </tr>\n",
       "    <tr>\n",
       "      <th>9968</th>\n",
       "      <td>4700.0</td>\n",
       "      <td>manuell</td>\n",
       "      <td>140</td>\n",
       "      <td>150000</td>\n",
       "      <td>benzin</td>\n",
       "      <td>volkswagen</td>\n",
       "      <td>16</td>\n",
       "    </tr>\n",
       "    <tr>\n",
       "      <th>9971</th>\n",
       "      <td>990.0</td>\n",
       "      <td>manuell</td>\n",
       "      <td>101</td>\n",
       "      <td>150000</td>\n",
       "      <td>benzin</td>\n",
       "      <td>opel</td>\n",
       "      <td>23</td>\n",
       "    </tr>\n",
       "  </tbody>\n",
       "</table>\n",
       "<p>184 rows × 7 columns</p>\n",
       "</div>"
      ],
      "text/plain": [
       "        price  gearbox  powerPS  kilometer fuelType       brand  tot_years\n",
       "828    1200.0  manuell        0     150000   benzin  volkswagen         23\n",
       "1447   4450.0  manuell      136     150000   benzin     peugeot         16\n",
       "1617  10500.0  manuell      143     150000   benzin        audi         14\n",
       "1686    800.0  manuell      147     150000   benzin        opel         21\n",
       "1872   3990.0  manuell      116     150000   benzin  volkswagen         19\n",
       "...       ...      ...      ...        ...      ...         ...        ...\n",
       "9889    400.0  manuell       75     150000   benzin  volkswagen         26\n",
       "9893   2000.0  manuell       60     150000   benzin        opel         19\n",
       "9916   3350.0  manuell      116     150000   benzin  volkswagen         21\n",
       "9968   4700.0  manuell      140     150000   benzin  volkswagen         16\n",
       "9971    990.0  manuell      101     150000   benzin        opel         23\n",
       "\n",
       "[184 rows x 7 columns]"
      ]
     },
     "execution_count": 29,
     "metadata": {},
     "output_type": "execute_result"
    }
   ],
   "source": [
    "#Lets see how many rows are duplicated\n",
    "df_cars[df_cars.duplicated()]"
   ]
  },
  {
   "cell_type": "code",
   "execution_count": 30,
   "metadata": {},
   "outputs": [
    {
     "data": {
      "text/plain": [
       "(9239, 7)"
      ]
     },
     "execution_count": 30,
     "metadata": {},
     "output_type": "execute_result"
    }
   ],
   "source": [
    "df_cars.drop_duplicates(inplace=True)# we are dropping duplicated rows from datframe\n",
    "df_cars.shape"
   ]
  },
  {
   "cell_type": "code",
   "execution_count": 31,
   "metadata": {
    "scrolled": true
   },
   "outputs": [
    {
     "data": {
      "text/plain": [
       "<AxesSubplot:xlabel='price', ylabel='Density'>"
      ]
     },
     "execution_count": 31,
     "metadata": {},
     "output_type": "execute_result"
    },
    {
     "data": {
      "image/png": "[encoded data removed]",
      "text/plain": [
       "<Figure size 432x288 with 1 Axes>"
      ]
     },
     "metadata": {
      "needs_background": "light"
     },
     "output_type": "display_data"
    }
   ],
   "source": [
    "sns.distplot(df_cars['price'])"
   ]
  },
  {
   "cell_type": "code",
   "execution_count": 89,
   "metadata": {
    "scrolled": true
   },
   "outputs": [
    {
     "data": {
      "text/plain": [
       "<seaborn.axisgrid.PairGrid at 0x23ed92dce20>"
      ]
     },
     "execution_count": 89,
     "metadata": {},
     "output_type": "execute_result"
    },
    {
     "data": {
      "image/png": "[encoded data removed]",
      "text/plain": [
       "<Figure size 720x720 with 20 Axes>"
      ]
     },
     "metadata": {
      "needs_background": "light"
     },
     "output_type": "display_data"
    }
   ],
   "source": [
    "sns.pairplot(data=df_cars)\n"
   ]
  },
  {
   "cell_type": "markdown",
   "metadata": {},
   "source": [
    "**we are cleary see the data as we have values ranges so high so we need to standardixe the data**"
   ]
  },
  {
   "cell_type": "markdown",
   "metadata": {},
   "source": [
    "# Encoding on categorical columns\n",
    "### Lets Handle Categorical data..we have fueltype and gearbox data as categorical data"
   ]
  },
  {
   "cell_type": "code",
   "execution_count": 33,
   "metadata": {},
   "outputs": [
    {
     "data": {
      "text/plain": [
       "(9239, 7)"
      ]
     },
     "execution_count": 33,
     "metadata": {},
     "output_type": "execute_result"
    }
   ],
   "source": [
    "df_cars.shape"
   ]
  },
  {
   "cell_type": "code",
   "execution_count": 34,
   "metadata": {},
   "outputs": [],
   "source": [
    "#importing useful modules for encoding\n",
    "from sklearn.preprocessing import StandardScaler\n",
    "std_scaler = StandardScaler(copy=True, \n",
    "                            with_mean=True, \n",
    "                            with_std=True)"
   ]
  },
  {
   "cell_type": "code",
   "execution_count": 35,
   "metadata": {},
   "outputs": [],
   "source": [
    "from sklearn.preprocessing import LabelEncoder"
   ]
  },
  {
   "cell_type": "code",
   "execution_count": 36,
   "metadata": {},
   "outputs": [],
   "source": [
    "le=LabelEncoder()# creating the object"
   ]
  },
  {
   "cell_type": "code",
   "execution_count": 37,
   "metadata": {},
   "outputs": [],
   "source": [
    "# Separting depending and independent variables\n",
    "X_fin=df_cars.drop(['brand','price'],axis=1).values\n",
    "\n",
    "\n",
    "y_fin=df_cars['price'].values"
   ]
  },
  {
   "cell_type": "code",
   "execution_count": 38,
   "metadata": {
    "scrolled": false
   },
   "outputs": [
    {
     "data": {
      "text/plain": [
       "array([['manuell', 89, 60000, 'benzin', 30],\n",
       "       ['manuell', 150, 125000, 'benzin', 26],\n",
       "       ['manuell', 150, 150000, 'benzin', 24],\n",
       "       ...,\n",
       "       ['manuell', 140, 150000, 'benzin', 11],\n",
       "       ['manuell', 58, 150000, 'benzin', 20],\n",
       "       ['manuell', 101, 60000, 'benzin', 10]], dtype=object)"
      ]
     },
     "execution_count": 38,
     "metadata": {},
     "output_type": "execute_result"
    }
   ],
   "source": [
    "X_tr=X_fin.copy()\n",
    "X_tr"
   ]
  },
  {
   "cell_type": "code",
   "execution_count": 39,
   "metadata": {},
   "outputs": [],
   "source": [
    "X_tr[:,0]=le.fit_transform(X_tr[:,0])"
   ]
  },
  {
   "cell_type": "code",
   "execution_count": 40,
   "metadata": {},
   "outputs": [
    {
     "data": {
      "text/plain": [
       "array([[1, 89, 60000, 0, 30],\n",
       "       [1, 150, 125000, 0, 26],\n",
       "       [1, 150, 150000, 0, 24],\n",
       "       ...,\n",
       "       [1, 140, 150000, 0, 11],\n",
       "       [1, 58, 150000, 0, 20],\n",
       "       [1, 101, 60000, 0, 10]], dtype=object)"
      ]
     },
     "execution_count": 40,
     "metadata": {},
     "output_type": "execute_result"
    }
   ],
   "source": [
    "X_tr[:,3]=le.fit_transform(X_tr[:,3])\n",
    "\n",
    "X_tr\n",
    "\n"
   ]
  },
  {
   "cell_type": "code",
   "execution_count": 41,
   "metadata": {
    "scrolled": false
   },
   "outputs": [],
   "source": [
    "y=y_fin.copy()\n"
   ]
  },
  {
   "cell_type": "markdown",
   "metadata": {},
   "source": [
    "# Feature Scaling"
   ]
  },
  {
   "cell_type": "code",
   "execution_count": 42,
   "metadata": {
    "scrolled": true
   },
   "outputs": [],
   "source": [
    "X = std_scaler.fit_transform(X_tr) # we are transforming our data into Normalization\n",
    "\n"
   ]
  },
  {
   "cell_type": "code",
   "execution_count": 43,
   "metadata": {},
   "outputs": [
    {
     "data": {
      "text/plain": [
       "array([[-0.78468304],\n",
       "       [-0.33401519],\n",
       "       [-0.52300493],\n",
       "       ...,\n",
       "       [ 0.55278285],\n",
       "       [-0.70181831],\n",
       "       [ 0.31872632]])"
      ]
     },
     "execution_count": 43,
     "metadata": {},
     "output_type": "execute_result"
    }
   ],
   "source": [
    "y = std_scaler.fit_transform(y.reshape(-1,1))\n",
    "y"
   ]
  },
  {
   "cell_type": "code",
   "execution_count": 44,
   "metadata": {
    "colab": {},
    "colab_type": "code",
    "id": "r5hv6nboxagT"
   },
   "outputs": [],
   "source": [
    "# 4. Apply various regression models and find out which model is the best for this dataset"
   ]
  },
  {
   "cell_type": "markdown",
   "metadata": {},
   "source": [
    "# Lets Spilt data into  Train the Test Data"
   ]
  },
  {
   "cell_type": "code",
   "execution_count": 45,
   "metadata": {},
   "outputs": [],
   "source": [
    "from sklearn.model_selection import train_test_split\n",
    "x_train,x_test,y_train,y_test=train_test_split(X,y,random_state=0,test_size=0.2)\n"
   ]
  },
  {
   "cell_type": "markdown",
   "metadata": {},
   "source": [
    "# Creating Linear regression model"
   ]
  },
  {
   "cell_type": "code",
   "execution_count": 46,
   "metadata": {},
   "outputs": [
    {
     "data": {
      "text/plain": [
       "LinearRegression()"
      ]
     },
     "execution_count": 46,
     "metadata": {},
     "output_type": "execute_result"
    }
   ],
   "source": [
    "from sklearn.linear_model import LinearRegression\n",
    "li=LinearRegression()\n",
    "li.fit(x_train,y_train)"
   ]
  },
  {
   "cell_type": "markdown",
   "metadata": {},
   "source": [
    "# predict the test Result"
   ]
  },
  {
   "cell_type": "code",
   "execution_count": 47,
   "metadata": {},
   "outputs": [
    {
     "data": {
      "text/plain": [
       "array([[ 0.12203289],\n",
       "       [ 1.79149834],\n",
       "       [ 0.37132559],\n",
       "       ...,\n",
       "       [-0.91788877],\n",
       "       [-0.60518441],\n",
       "       [-0.24659139]])"
      ]
     },
     "execution_count": 47,
     "metadata": {},
     "output_type": "execute_result"
    }
   ],
   "source": [
    "y_pred=li.predict(x_test)\n",
    "y_pred"
   ]
  },
  {
   "cell_type": "markdown",
   "metadata": {},
   "source": [
    "# Evaluate the model"
   ]
  },
  {
   "cell_type": "code",
   "execution_count": 48,
   "metadata": {
    "scrolled": true
   },
   "outputs": [
    {
     "data": {
      "text/plain": [
       "0.6008943701655364"
      ]
     },
     "execution_count": 48,
     "metadata": {},
     "output_type": "execute_result"
    }
   ],
   "source": [
    "from sklearn.metrics import r2_score\n",
    "r2_score(y_test,y_pred)"
   ]
  },
  {
   "cell_type": "markdown",
   "metadata": {},
   "source": [
    "### Our model is giving accuracy of 0.6 "
   ]
  },
  {
   "cell_type": "markdown",
   "metadata": {},
   "source": [
    "# Plot the result"
   ]
  },
  {
   "cell_type": "code",
   "execution_count": 49,
   "metadata": {},
   "outputs": [
    {
     "data": {
      "image/png": "[encoded data removed]",
      "text/plain": [
       "<Figure size 1080x720 with 1 Axes>"
      ]
     },
     "metadata": {
      "needs_background": "light"
     },
     "output_type": "display_data"
    }
   ],
   "source": [
    "import matplotlib.pyplot as plt\n",
    "plt.figure(figsize=(15,10))\n",
    "plt.scatter(y_test,y_pred)\n",
    "plt.title(\"Actual vs Predicted\");"
   ]
  },
  {
   "cell_type": "code",
   "execution_count": 50,
   "metadata": {
    "scrolled": false
   },
   "outputs": [
    {
     "data": {
      "text/html": [
       "<table class=\"simpletable\">\n",
       "<caption>OLS Regression Results</caption>\n",
       "<tr>\n",
       "  <th>Dep. Variable:</th>            <td>y</td>        <th>  R-squared (uncentered):</th>      <td>   0.544</td> \n",
       "</tr>\n",
       "<tr>\n",
       "  <th>Model:</th>                   <td>OLS</td>       <th>  Adj. R-squared (uncentered):</th> <td>   0.544</td> \n",
       "</tr>\n",
       "<tr>\n",
       "  <th>Method:</th>             <td>Least Squares</td>  <th>  F-statistic:       </th>          <td>   2208.</td> \n",
       "</tr>\n",
       "<tr>\n",
       "  <th>Date:</th>             <td>Tue, 22 Nov 2022</td> <th>  Prob (F-statistic):</th>           <td>  0.00</td>  \n",
       "</tr>\n",
       "<tr>\n",
       "  <th>Time:</th>                 <td>12:01:40</td>     <th>  Log-Likelihood:    </th>          <td> -9477.1</td> \n",
       "</tr>\n",
       "<tr>\n",
       "  <th>No. Observations:</th>      <td>  9239</td>      <th>  AIC:               </th>          <td>1.896e+04</td>\n",
       "</tr>\n",
       "<tr>\n",
       "  <th>Df Residuals:</th>          <td>  9234</td>      <th>  BIC:               </th>          <td>1.900e+04</td>\n",
       "</tr>\n",
       "<tr>\n",
       "  <th>Df Model:</th>              <td>     5</td>      <th>                     </th>              <td> </td>    \n",
       "</tr>\n",
       "<tr>\n",
       "  <th>Covariance Type:</th>      <td>nonrobust</td>    <th>                     </th>              <td> </td>    \n",
       "</tr>\n",
       "</table>\n",
       "<table class=\"simpletable\">\n",
       "<tr>\n",
       "   <td></td>     <th>coef</th>     <th>std err</th>      <th>t</th>      <th>P>|t|</th>  <th>[0.025</th>    <th>0.975]</th>  \n",
       "</tr>\n",
       "<tr>\n",
       "  <th>x1</th> <td>   -0.1014</td> <td>    0.008</td> <td>  -13.229</td> <td> 0.000</td> <td>   -0.116</td> <td>   -0.086</td>\n",
       "</tr>\n",
       "<tr>\n",
       "  <th>x2</th> <td>    0.4724</td> <td>    0.008</td> <td>   61.149</td> <td> 0.000</td> <td>    0.457</td> <td>    0.488</td>\n",
       "</tr>\n",
       "<tr>\n",
       "  <th>x3</th> <td>   -0.3747</td> <td>    0.007</td> <td>  -50.883</td> <td> 0.000</td> <td>   -0.389</td> <td>   -0.360</td>\n",
       "</tr>\n",
       "<tr>\n",
       "  <th>x4</th> <td>    0.0522</td> <td>    0.007</td> <td>    7.425</td> <td> 0.000</td> <td>    0.038</td> <td>    0.066</td>\n",
       "</tr>\n",
       "<tr>\n",
       "  <th>x5</th> <td>   -0.2029</td> <td>    0.007</td> <td>  -27.256</td> <td> 0.000</td> <td>   -0.217</td> <td>   -0.188</td>\n",
       "</tr>\n",
       "</table>\n",
       "<table class=\"simpletable\">\n",
       "<tr>\n",
       "  <th>Omnibus:</th>       <td>3283.179</td> <th>  Durbin-Watson:     </th> <td>   2.015</td> \n",
       "</tr>\n",
       "<tr>\n",
       "  <th>Prob(Omnibus):</th>  <td> 0.000</td>  <th>  Jarque-Bera (JB):  </th> <td>25674.311</td>\n",
       "</tr>\n",
       "<tr>\n",
       "  <th>Skew:</th>           <td> 1.492</td>  <th>  Prob(JB):          </th> <td>    0.00</td> \n",
       "</tr>\n",
       "<tr>\n",
       "  <th>Kurtosis:</th>       <td>10.602</td>  <th>  Cond. No.          </th> <td>    1.61</td> \n",
       "</tr>\n",
       "</table><br/><br/>Notes:<br/>[1] R² is computed without centering (uncentered) since the model does not contain a constant.<br/>[2] Standard Errors assume that the covariance matrix of the errors is correctly specified."
      ],
      "text/plain": [
       "<class 'statsmodels.iolib.summary.Summary'>\n",
       "\"\"\"\n",
       "                                 OLS Regression Results                                \n",
       "=======================================================================================\n",
       "Dep. Variable:                      y   R-squared (uncentered):                   0.544\n",
       "Model:                            OLS   Adj. R-squared (uncentered):              0.544\n",
       "Method:                 Least Squares   F-statistic:                              2208.\n",
       "Date:                Tue, 22 Nov 2022   Prob (F-statistic):                        0.00\n",
       "Time:                        12:01:40   Log-Likelihood:                         -9477.1\n",
       "No. Observations:                9239   AIC:                                  1.896e+04\n",
       "Df Residuals:                    9234   BIC:                                  1.900e+04\n",
       "Df Model:                           5                                                  \n",
       "Covariance Type:            nonrobust                                                  \n",
       "==============================================================================\n",
       "                 coef    std err          t      P>|t|      [0.025      0.975]\n",
       "------------------------------------------------------------------------------\n",
       "x1            -0.1014      0.008    -13.229      0.000      -0.116      -0.086\n",
       "x2             0.4724      0.008     61.149      0.000       0.457       0.488\n",
       "x3            -0.3747      0.007    -50.883      0.000      -0.389      -0.360\n",
       "x4             0.0522      0.007      7.425      0.000       0.038       0.066\n",
       "x5            -0.2029      0.007    -27.256      0.000      -0.217      -0.188\n",
       "==============================================================================\n",
       "Omnibus:                     3283.179   Durbin-Watson:                   2.015\n",
       "Prob(Omnibus):                  0.000   Jarque-Bera (JB):            25674.311\n",
       "Skew:                           1.492   Prob(JB):                         0.00\n",
       "Kurtosis:                      10.602   Cond. No.                         1.61\n",
       "==============================================================================\n",
       "\n",
       "Notes:\n",
       "[1] R² is computed without centering (uncentered) since the model does not contain a constant.\n",
       "[2] Standard Errors assume that the covariance matrix of the errors is correctly specified.\n",
       "\"\"\""
      ]
     },
     "execution_count": 50,
     "metadata": {},
     "output_type": "execute_result"
    }
   ],
   "source": [
    "\n",
    "from statsmodels.api import OLS\n",
    "OLS(y,X).fit().summary()"
   ]
  },
  {
   "cell_type": "markdown",
   "metadata": {},
   "source": [
    "**We can see Summary of our liner regression model as above<br>\n",
    "  1- we have R-square value about 0.55<br>\n",
    "  2- we can see all variables are significant as per p value**\n"
   ]
  },
  {
   "cell_type": "code",
   "execution_count": 51,
   "metadata": {
    "scrolled": false
   },
   "outputs": [
    {
     "data": {
      "text/plain": [
       "0.43333690735761243"
      ]
     },
     "execution_count": 51,
     "metadata": {},
     "output_type": "execute_result"
    }
   ],
   "source": [
    "from sklearn.metrics import mean_squared_error\n",
    "mse_li=mean_squared_error(y_test,y_pred)\n",
    "mse_li"
   ]
  },
  {
   "cell_type": "markdown",
   "metadata": {},
   "source": [
    "# Using Ridge regression"
   ]
  },
  {
   "cell_type": "code",
   "execution_count": 52,
   "metadata": {},
   "outputs": [],
   "source": [
    "from sklearn.linear_model import Ridge\n",
    "from sklearn.model_selection import GridSearchCV\n",
    "ridge=Ridge(alpha=1)\n",
    "ridge.fit(x_train,y_train)\n",
    "y_pred_ridge=ridge.predict(x_test)"
   ]
  },
  {
   "cell_type": "code",
   "execution_count": 53,
   "metadata": {},
   "outputs": [
    {
     "data": {
      "text/plain": [
       "array([[ 0.12203289],\n",
       "       [ 1.79149834],\n",
       "       [ 0.37132559],\n",
       "       ...,\n",
       "       [-0.91788877],\n",
       "       [-0.60518441],\n",
       "       [-0.24659139]])"
      ]
     },
     "execution_count": 53,
     "metadata": {},
     "output_type": "execute_result"
    }
   ],
   "source": [
    "y_pred"
   ]
  },
  {
   "cell_type": "code",
   "execution_count": 54,
   "metadata": {},
   "outputs": [
    {
     "name": "stdout",
     "output_type": "stream",
     "text": [
      "r2 square error using ridge function on test set is 0.6008838446367628\n"
     ]
    }
   ],
   "source": [
    "r2_ridge=r2_score(y_test,y_pred_ridge)\n",
    "print(\"r2 square error using ridge function on test set is\",r2_ridge)"
   ]
  },
  {
   "cell_type": "code",
   "execution_count": 55,
   "metadata": {},
   "outputs": [
    {
     "data": {
      "text/plain": [
       "0.43334833566066316"
      ]
     },
     "execution_count": 55,
     "metadata": {},
     "output_type": "execute_result"
    }
   ],
   "source": [
    "mse_ridge=mean_squared_error(y_test,y_pred_ridge)\n",
    "mse_ridge"
   ]
  },
  {
   "cell_type": "markdown",
   "metadata": {},
   "source": [
    "# using Lasso Regression"
   ]
  },
  {
   "cell_type": "code",
   "execution_count": 56,
   "metadata": {},
   "outputs": [],
   "source": [
    "from sklearn import linear_model\n",
    "clf = linear_model.Lasso(alpha=0.1)"
   ]
  },
  {
   "cell_type": "code",
   "execution_count": 57,
   "metadata": {},
   "outputs": [],
   "source": [
    "\n",
    "clf.fit(x_train,y_train)\n",
    "y_pred_clf=clf.predict(x_test)"
   ]
  },
  {
   "cell_type": "code",
   "execution_count": 58,
   "metadata": {},
   "outputs": [
    {
     "name": "stdout",
     "output_type": "stream",
     "text": [
      "r2 square error using ridge function on test set is 0.5491091944653551\n"
     ]
    }
   ],
   "source": [
    "r2_clf=r2_score(y_test,y_pred_clf)\n",
    "print(\"r2 square error using ridge function on test set is\",r2_clf)"
   ]
  },
  {
   "cell_type": "code",
   "execution_count": 59,
   "metadata": {},
   "outputs": [
    {
     "data": {
      "text/plain": [
       "0.4895636959754395"
      ]
     },
     "execution_count": 59,
     "metadata": {},
     "output_type": "execute_result"
    }
   ],
   "source": [
    "mse_clf=mean_squared_error(y_test,y_pred_clf)\n",
    "mse_clf"
   ]
  },
  {
   "cell_type": "markdown",
   "metadata": {},
   "source": [
    "### If we comapre linear,lasso & ridge regression they are almost giving same results.Linear and Ridge regression are slight  good with the prediction on test data as compare to the lasso."
   ]
  },
  {
   "cell_type": "markdown",
   "metadata": {},
   "source": [
    "# Using Decision tree regressor algorithem"
   ]
  },
  {
   "cell_type": "code",
   "execution_count": 60,
   "metadata": {},
   "outputs": [],
   "source": [
    "from sklearn.tree import DecisionTreeRegressor"
   ]
  },
  {
   "cell_type": "code",
   "execution_count": 61,
   "metadata": {},
   "outputs": [],
   "source": [
    "regressor = DecisionTreeRegressor(random_state=0)\n"
   ]
  },
  {
   "cell_type": "code",
   "execution_count": 62,
   "metadata": {},
   "outputs": [
    {
     "data": {
      "text/plain": [
       "DecisionTreeRegressor(random_state=0)"
      ]
     },
     "execution_count": 62,
     "metadata": {},
     "output_type": "execute_result"
    }
   ],
   "source": [
    "regressor.fit(x_train,y_train)"
   ]
  },
  {
   "cell_type": "code",
   "execution_count": 63,
   "metadata": {},
   "outputs": [],
   "source": [
    "y_predict=regressor.predict(x_test)"
   ]
  },
  {
   "cell_type": "code",
   "execution_count": 64,
   "metadata": {},
   "outputs": [],
   "source": [
    "from sklearn.metrics import mean_squared_error"
   ]
  },
  {
   "cell_type": "code",
   "execution_count": 65,
   "metadata": {},
   "outputs": [
    {
     "data": {
      "text/plain": [
       "0.41624483973162096"
      ]
     },
     "execution_count": 65,
     "metadata": {},
     "output_type": "execute_result"
    }
   ],
   "source": [
    "mse=mean_squared_error(y_test,y_predict)\n",
    "mse"
   ]
  },
  {
   "cell_type": "code",
   "execution_count": 66,
   "metadata": {},
   "outputs": [
    {
     "data": {
      "text/plain": [
       "0.6451703958890402"
      ]
     },
     "execution_count": 66,
     "metadata": {},
     "output_type": "execute_result"
    }
   ],
   "source": [
    "rmse=np.sqrt(mse)\n",
    "rmse"
   ]
  },
  {
   "cell_type": "code",
   "execution_count": 67,
   "metadata": {},
   "outputs": [],
   "source": [
    "from sklearn.model_selection import cross_val_score\n",
    "CV=cross_val_score(regressor, X, y, cv=5)"
   ]
  },
  {
   "cell_type": "markdown",
   "metadata": {},
   "source": [
    "## So here we are getting accuracy slight more that linear regression"
   ]
  },
  {
   "cell_type": "code",
   "execution_count": 68,
   "metadata": {},
   "outputs": [
    {
     "data": {
      "text/plain": [
       "0.6318975974400164"
      ]
     },
     "execution_count": 68,
     "metadata": {},
     "output_type": "execute_result"
    }
   ],
   "source": [
    "np.mean(CV)"
   ]
  },
  {
   "cell_type": "markdown",
   "metadata": {},
   "source": [
    "## Conclusion: We have checked MSE  and R-score of every model that we have trained and we can conclude that\n",
    "## 1- Decision Tree and Linerar regression  model performing quite better than other models\n",
    "## 2- we have not seen significant improvement in model by performing scaling, hyperparamerter tuning etc."
   ]
  },
  {
   "cell_type": "code",
   "execution_count": 69,
   "metadata": {
    "colab": {},
    "colab_type": "code",
    "id": "4gHkzTNWxagW"
   },
   "outputs": [],
   "source": [
    "# 5. Apply different Outlier detection methods and choose best approach to treat outliers \n"
   ]
  },
  {
   "cell_type": "markdown",
   "metadata": {},
   "source": [
    "## There are few outlier detection methods to detect the outliers in our Dataset as below\n",
    "\n",
    "### Here we will only see price variable of our dataframe to understand outliers detection methods"
   ]
  },
  {
   "cell_type": "markdown",
   "metadata": {},
   "source": [
    "### Box Plot detection"
   ]
  },
  {
   "cell_type": "code",
   "execution_count": 70,
   "metadata": {
    "scrolled": true
   },
   "outputs": [
    {
     "data": {
      "text/plain": [
       "<AxesSubplot:>"
      ]
     },
     "execution_count": 70,
     "metadata": {},
     "output_type": "execute_result"
    },
    {
     "data": {
      "image/png": "[encoded data removed]",
      "text/plain": [
       "<Figure size 864x576 with 1 Axes>"
      ]
     },
     "metadata": {
      "needs_background": "light"
     },
     "output_type": "display_data"
    }
   ],
   "source": [
    "plt.figure(figsize=(12,8))\n",
    "sns.boxplot(data=df)\n",
    "\n"
   ]
  },
  {
   "cell_type": "markdown",
   "metadata": {},
   "source": [
    "### IQR Method"
   ]
  },
  {
   "cell_type": "code",
   "execution_count": 71,
   "metadata": {},
   "outputs": [
    {
     "data": {
      "text/plain": [
       "762"
      ]
     },
     "execution_count": 71,
     "metadata": {},
     "output_type": "execute_result"
    }
   ],
   "source": [
    "Q1,Q3 = np.percentile(df[\"price\"],[25,75])\n",
    "IQR = Q3 - Q1\n",
    "ul = Q3+1.5*IQR\n",
    "ll = Q1-1.5*IQR\n",
    "outliers = df[\"price\"][(df[\"price\"] > ul) | (df[\"price\"] < ll)]\n",
    "outliers.count()"
   ]
  },
  {
   "cell_type": "markdown",
   "metadata": {},
   "source": [
    "### Using Z score method"
   ]
  },
  {
   "cell_type": "code",
   "execution_count": 72,
   "metadata": {},
   "outputs": [
    {
     "data": {
      "text/plain": [
       "260"
      ]
     },
     "execution_count": 72,
     "metadata": {},
     "output_type": "execute_result"
    }
   ],
   "source": [
    "def find_outliers(col):\n",
    "    from scipy import stats\n",
    "    z=np.abs(stats.zscore(col))\n",
    "    idx_outliers=np.where(z>3,True,False)\n",
    "    return pd.Series(idx_outliers,index=df.index)\n",
    "\n",
    "idx= find_outliers (df['price'])\n",
    "np.sum(idx)"
   ]
  },
  {
   "cell_type": "markdown",
   "metadata": {},
   "source": [
    "###  Using Isolation Forest"
   ]
  },
  {
   "cell_type": "code",
   "execution_count": 73,
   "metadata": {},
   "outputs": [
    {
     "name": "stdout",
     "output_type": "stream",
     "text": [
      "{'bootstrap': False, 'contamination': 0.2, 'max_features': 1.0, 'max_samples': 'auto', 'n_estimators': 100, 'n_jobs': None, 'random_state': RandomState(MT19937) at 0x23EDC4C9B40, 'verbose': 0, 'warm_start': False}\n"
     ]
    }
   ],
   "source": [
    "from sklearn.ensemble import IsolationForest\n",
    "random_state = np.random.RandomState(42)\n",
    "\n",
    "model=IsolationForest(n_estimators=100,max_samples='auto',contamination=float(0.2),random_state=random_state)\n",
    "\n",
    "model.fit(df[['price']])\n",
    "\n",
    "print(model.get_params())"
   ]
  },
  {
   "cell_type": "code",
   "execution_count": 74,
   "metadata": {},
   "outputs": [
    {
     "data": {
      "text/html": [
       "<div>\n",
       "<style scoped>\n",
       "    .dataframe tbody tr th:only-of-type {\n",
       "        vertical-align: middle;\n",
       "    }\n",
       "\n",
       "    .dataframe tbody tr th {\n",
       "        vertical-align: top;\n",
       "    }\n",
       "\n",
       "    .dataframe thead th {\n",
       "        text-align: right;\n",
       "    }\n",
       "</style>\n",
       "<table border=\"1\" class=\"dataframe\">\n",
       "  <thead>\n",
       "    <tr style=\"text-align: right;\">\n",
       "      <th></th>\n",
       "      <th>price</th>\n",
       "      <th>name</th>\n",
       "      <th>yearOfRegistration</th>\n",
       "      <th>monthOfRegistration</th>\n",
       "      <th>gearbox</th>\n",
       "      <th>powerPS</th>\n",
       "      <th>model</th>\n",
       "      <th>kilometer</th>\n",
       "      <th>fuelType</th>\n",
       "      <th>brand</th>\n",
       "      <th>vehicleType</th>\n",
       "      <th>tot_years</th>\n",
       "      <th>anomaly_score</th>\n",
       "    </tr>\n",
       "  </thead>\n",
       "  <tbody>\n",
       "  </tbody>\n",
       "</table>\n",
       "</div>"
      ],
      "text/plain": [
       "Empty DataFrame\n",
       "Columns: [price, name, yearOfRegistration, monthOfRegistration, gearbox, powerPS, model, kilometer, fuelType, brand, vehicleType, tot_years, anomaly_score]\n",
       "Index: []"
      ]
     },
     "execution_count": 74,
     "metadata": {},
     "output_type": "execute_result"
    }
   ],
   "source": [
    "df['price'] = model.decision_function(df[['price']])\n",
    "\n",
    "df['anomaly_score'] = model.predict(df[['price']])\n",
    "\n",
    "df[df['anomaly_score']==-1].head()"
   ]
  },
  {
   "cell_type": "markdown",
   "metadata": {},
   "source": [
    "## Best approch to treat outliers=Quantile Method-Capping Approach"
   ]
  },
  {
   "cell_type": "code",
   "execution_count": 75,
   "metadata": {
    "scrolled": true
   },
   "outputs": [
    {
     "name": "stdout",
     "output_type": "stream",
     "text": [
      "capping the  price\n",
      "capping the  name\n",
      "capping the  yearOfRegistration\n",
      "capping the  monthOfRegistration\n",
      "capping the  gearbox\n",
      "capping the  powerPS\n",
      "capping the  model\n",
      "capping the  kilometer\n",
      "capping the  fuelType\n",
      "capping the  brand\n",
      "capping the  vehicleType\n",
      "capping the  tot_years\n",
      "capping the  anomaly_score\n"
     ]
    }
   ],
   "source": [
    "def cap_data(df):\n",
    "    for col in df.columns:\n",
    "        print(\"capping the \",col)\n",
    "        if (((df[col].dtype)=='float64') | ((df[col].dtype)=='int64')):\n",
    "            percentiles = df[col].quantile([0.01,0.99]).values\n",
    "            df[col][df[col] <= percentiles[0]] = percentiles[0]\n",
    "            df[col][df[col] >= percentiles[1]] = percentiles[1]\n",
    "        else:\n",
    "            df[col]=df[col]\n",
    "    return df\n",
    "\n",
    "df_OL=cap_data(df)"
   ]
  },
  {
   "cell_type": "code",
   "execution_count": 76,
   "metadata": {},
   "outputs": [
    {
     "data": {
      "text/html": [
       "<div>\n",
       "<style scoped>\n",
       "    .dataframe tbody tr th:only-of-type {\n",
       "        vertical-align: middle;\n",
       "    }\n",
       "\n",
       "    .dataframe tbody tr th {\n",
       "        vertical-align: top;\n",
       "    }\n",
       "\n",
       "    .dataframe thead th {\n",
       "        text-align: right;\n",
       "    }\n",
       "</style>\n",
       "<table border=\"1\" class=\"dataframe\">\n",
       "  <thead>\n",
       "    <tr style=\"text-align: right;\">\n",
       "      <th></th>\n",
       "      <th>price</th>\n",
       "      <th>name</th>\n",
       "      <th>yearOfRegistration</th>\n",
       "      <th>monthOfRegistration</th>\n",
       "      <th>gearbox</th>\n",
       "      <th>powerPS</th>\n",
       "      <th>model</th>\n",
       "      <th>kilometer</th>\n",
       "      <th>fuelType</th>\n",
       "      <th>brand</th>\n",
       "      <th>vehicleType</th>\n",
       "      <th>tot_years</th>\n",
       "      <th>anomaly_score</th>\n",
       "    </tr>\n",
       "  </thead>\n",
       "  <tbody>\n",
       "    <tr>\n",
       "      <th>0</th>\n",
       "      <td>0.044574</td>\n",
       "      <td>Ford_Escort</td>\n",
       "      <td>1992</td>\n",
       "      <td>8</td>\n",
       "      <td>manuell</td>\n",
       "      <td>89</td>\n",
       "      <td>escort</td>\n",
       "      <td>60000</td>\n",
       "      <td>benzin</td>\n",
       "      <td>ford</td>\n",
       "      <td>kombi</td>\n",
       "      <td>30</td>\n",
       "      <td>1</td>\n",
       "    </tr>\n",
       "    <tr>\n",
       "      <th>1</th>\n",
       "      <td>0.070340</td>\n",
       "      <td>Bmw_320_cabrio</td>\n",
       "      <td>1996</td>\n",
       "      <td>0</td>\n",
       "      <td>manuell</td>\n",
       "      <td>150</td>\n",
       "      <td>3er</td>\n",
       "      <td>125000</td>\n",
       "      <td>NaN</td>\n",
       "      <td>bmw</td>\n",
       "      <td>cabrio</td>\n",
       "      <td>26</td>\n",
       "      <td>1</td>\n",
       "    </tr>\n",
       "    <tr>\n",
       "      <th>2</th>\n",
       "      <td>0.074202</td>\n",
       "      <td>Mercedes_C_230_T_im_top_Zustand_Tuev_Neu!!_Win...</td>\n",
       "      <td>1998</td>\n",
       "      <td>0</td>\n",
       "      <td>manuell</td>\n",
       "      <td>150</td>\n",
       "      <td>c_klasse</td>\n",
       "      <td>150000</td>\n",
       "      <td>benzin</td>\n",
       "      <td>mercedes_benz</td>\n",
       "      <td>kombi</td>\n",
       "      <td>24</td>\n",
       "      <td>1</td>\n",
       "    </tr>\n",
       "    <tr>\n",
       "      <th>3</th>\n",
       "      <td>0.077717</td>\n",
       "      <td>A3_Limousine</td>\n",
       "      <td>2006</td>\n",
       "      <td>7</td>\n",
       "      <td>manuell</td>\n",
       "      <td>0</td>\n",
       "      <td>a3</td>\n",
       "      <td>150000</td>\n",
       "      <td>diesel</td>\n",
       "      <td>audi</td>\n",
       "      <td>limousine</td>\n",
       "      <td>16</td>\n",
       "      <td>1</td>\n",
       "    </tr>\n",
       "    <tr>\n",
       "      <th>4</th>\n",
       "      <td>0.066837</td>\n",
       "      <td>Smart_Smart_cabrio_450_cdi</td>\n",
       "      <td>2002</td>\n",
       "      <td>7</td>\n",
       "      <td>automatik</td>\n",
       "      <td>41</td>\n",
       "      <td>fortwo</td>\n",
       "      <td>150000</td>\n",
       "      <td>diesel</td>\n",
       "      <td>smart</td>\n",
       "      <td>cabrio</td>\n",
       "      <td>20</td>\n",
       "      <td>1</td>\n",
       "    </tr>\n",
       "  </tbody>\n",
       "</table>\n",
       "</div>"
      ],
      "text/plain": [
       "      price                                               name  \\\n",
       "0  0.044574                                        Ford_Escort   \n",
       "1  0.070340                                     Bmw_320_cabrio   \n",
       "2  0.074202  Mercedes_C_230_T_im_top_Zustand_Tuev_Neu!!_Win...   \n",
       "3  0.077717                                       A3_Limousine   \n",
       "4  0.066837                         Smart_Smart_cabrio_450_cdi   \n",
       "\n",
       "   yearOfRegistration  monthOfRegistration    gearbox  powerPS     model  \\\n",
       "0                1992                    8    manuell       89    escort   \n",
       "1                1996                    0    manuell      150       3er   \n",
       "2                1998                    0    manuell      150  c_klasse   \n",
       "3                2006                    7    manuell        0        a3   \n",
       "4                2002                    7  automatik       41    fortwo   \n",
       "\n",
       "   kilometer fuelType          brand vehicleType  tot_years  anomaly_score  \n",
       "0      60000   benzin           ford       kombi         30              1  \n",
       "1     125000      NaN            bmw      cabrio         26              1  \n",
       "2     150000   benzin  mercedes_benz       kombi         24              1  \n",
       "3     150000   diesel           audi   limousine         16              1  \n",
       "4     150000   diesel          smart      cabrio         20              1  "
      ]
     },
     "execution_count": 76,
     "metadata": {},
     "output_type": "execute_result"
    }
   ],
   "source": [
    "df_OL.head()"
   ]
  },
  {
   "cell_type": "code",
   "execution_count": 77,
   "metadata": {
    "colab": {},
    "colab_type": "code",
    "id": "taS7lIk7xsFC"
   },
   "outputs": [],
   "source": [
    "# 6. Apply Variance Inflation Factors calculation and find if the model built has collinearity between different variables"
   ]
  },
  {
   "cell_type": "markdown",
   "metadata": {},
   "source": [
    "A variance inflation factor (VIF) is a measure of the amount of multicollinearity in regression analysis. Multicollinearity exists when there is a correlation between multiple independent variables in a multiple regression model. This can adversely affect the regression results."
   ]
  },
  {
   "attachments": {
    "image.png": {
     "image/png": "[encoded data removed]"
    }
   },
   "cell_type": "markdown",
   "metadata": {},
   "source": [
    "![image.png](attachment:image.png)"
   ]
  },
  {
   "cell_type": "markdown",
   "metadata": {},
   "source": [
    "## lets import VIF module from Statmodels Library"
   ]
  },
  {
   "cell_type": "code",
   "execution_count": 78,
   "metadata": {},
   "outputs": [],
   "source": [
    "\n",
    "from statsmodels.stats.outliers_influence import variance_inflation_factor\n"
   ]
  },
  {
   "cell_type": "code",
   "execution_count": 79,
   "metadata": {},
   "outputs": [],
   "source": [
    "X_dt = np.array(X_tr, dtype=float)"
   ]
  },
  {
   "cell_type": "code",
   "execution_count": 80,
   "metadata": {},
   "outputs": [
    {
     "data": {
      "text/html": [
       "<div>\n",
       "<style scoped>\n",
       "    .dataframe tbody tr th:only-of-type {\n",
       "        vertical-align: middle;\n",
       "    }\n",
       "\n",
       "    .dataframe tbody tr th {\n",
       "        vertical-align: top;\n",
       "    }\n",
       "\n",
       "    .dataframe thead th {\n",
       "        text-align: right;\n",
       "    }\n",
       "</style>\n",
       "<table border=\"1\" class=\"dataframe\">\n",
       "  <thead>\n",
       "    <tr style=\"text-align: right;\">\n",
       "      <th></th>\n",
       "      <th>gearbox</th>\n",
       "      <th>powerPS</th>\n",
       "      <th>kilometer</th>\n",
       "      <th>fuelType</th>\n",
       "      <th>tot_years</th>\n",
       "    </tr>\n",
       "  </thead>\n",
       "  <tbody>\n",
       "    <tr>\n",
       "      <th>0</th>\n",
       "      <td>1.0</td>\n",
       "      <td>89.0</td>\n",
       "      <td>60000.0</td>\n",
       "      <td>0.0</td>\n",
       "      <td>30.0</td>\n",
       "    </tr>\n",
       "    <tr>\n",
       "      <th>1</th>\n",
       "      <td>1.0</td>\n",
       "      <td>150.0</td>\n",
       "      <td>125000.0</td>\n",
       "      <td>0.0</td>\n",
       "      <td>26.0</td>\n",
       "    </tr>\n",
       "    <tr>\n",
       "      <th>2</th>\n",
       "      <td>1.0</td>\n",
       "      <td>150.0</td>\n",
       "      <td>150000.0</td>\n",
       "      <td>0.0</td>\n",
       "      <td>24.0</td>\n",
       "    </tr>\n",
       "    <tr>\n",
       "      <th>3</th>\n",
       "      <td>1.0</td>\n",
       "      <td>0.0</td>\n",
       "      <td>150000.0</td>\n",
       "      <td>0.0</td>\n",
       "      <td>16.0</td>\n",
       "    </tr>\n",
       "    <tr>\n",
       "      <th>4</th>\n",
       "      <td>0.0</td>\n",
       "      <td>41.0</td>\n",
       "      <td>150000.0</td>\n",
       "      <td>0.0</td>\n",
       "      <td>20.0</td>\n",
       "    </tr>\n",
       "    <tr>\n",
       "      <th>...</th>\n",
       "      <td>...</td>\n",
       "      <td>...</td>\n",
       "      <td>...</td>\n",
       "      <td>...</td>\n",
       "      <td>...</td>\n",
       "    </tr>\n",
       "    <tr>\n",
       "      <th>9234</th>\n",
       "      <td>1.0</td>\n",
       "      <td>90.0</td>\n",
       "      <td>150000.0</td>\n",
       "      <td>0.0</td>\n",
       "      <td>17.0</td>\n",
       "    </tr>\n",
       "    <tr>\n",
       "      <th>9235</th>\n",
       "      <td>1.0</td>\n",
       "      <td>80.0</td>\n",
       "      <td>150000.0</td>\n",
       "      <td>0.0</td>\n",
       "      <td>17.0</td>\n",
       "    </tr>\n",
       "    <tr>\n",
       "      <th>9236</th>\n",
       "      <td>1.0</td>\n",
       "      <td>140.0</td>\n",
       "      <td>150000.0</td>\n",
       "      <td>0.0</td>\n",
       "      <td>11.0</td>\n",
       "    </tr>\n",
       "    <tr>\n",
       "      <th>9237</th>\n",
       "      <td>1.0</td>\n",
       "      <td>58.0</td>\n",
       "      <td>150000.0</td>\n",
       "      <td>0.0</td>\n",
       "      <td>20.0</td>\n",
       "    </tr>\n",
       "    <tr>\n",
       "      <th>9238</th>\n",
       "      <td>1.0</td>\n",
       "      <td>101.0</td>\n",
       "      <td>60000.0</td>\n",
       "      <td>0.0</td>\n",
       "      <td>10.0</td>\n",
       "    </tr>\n",
       "  </tbody>\n",
       "</table>\n",
       "<p>9239 rows × 5 columns</p>\n",
       "</div>"
      ],
      "text/plain": [
       "      gearbox  powerPS  kilometer  fuelType  tot_years\n",
       "0         1.0     89.0    60000.0       0.0       30.0\n",
       "1         1.0    150.0   125000.0       0.0       26.0\n",
       "2         1.0    150.0   150000.0       0.0       24.0\n",
       "3         1.0      0.0   150000.0       0.0       16.0\n",
       "4         0.0     41.0   150000.0       0.0       20.0\n",
       "...       ...      ...        ...       ...        ...\n",
       "9234      1.0     90.0   150000.0       0.0       17.0\n",
       "9235      1.0     80.0   150000.0       0.0       17.0\n",
       "9236      1.0    140.0   150000.0       0.0       11.0\n",
       "9237      1.0     58.0   150000.0       0.0       20.0\n",
       "9238      1.0    101.0    60000.0       0.0       10.0\n",
       "\n",
       "[9239 rows x 5 columns]"
      ]
     },
     "execution_count": 80,
     "metadata": {},
     "output_type": "execute_result"
    }
   ],
   "source": [
    "col=['gearbox','powerPS','kilometer','fuelType','tot_years']\n",
    "X_df=pd.DataFrame(data=X_dt,columns=col)\n",
    "X_df"
   ]
  },
  {
   "cell_type": "code",
   "execution_count": 81,
   "metadata": {},
   "outputs": [],
   "source": [
    "# we are creating function to calculate the VIF factor\n",
    "def calculate_vif(X_df):\n",
    "    vif = pd.DataFrame()\n",
    "    vif[\"VIF Factor\"] = [variance_inflation_factor(X_df.values, i) for i in range(X_df.shape[1])]\n",
    "    vif[\"features\"] = X_df.columns\n",
    "    return (vif)"
   ]
  },
  {
   "cell_type": "code",
   "execution_count": 82,
   "metadata": {
    "scrolled": true
   },
   "outputs": [
    {
     "data": {
      "text/html": [
       "<div>\n",
       "<style scoped>\n",
       "    .dataframe tbody tr th:only-of-type {\n",
       "        vertical-align: middle;\n",
       "    }\n",
       "\n",
       "    .dataframe tbody tr th {\n",
       "        vertical-align: top;\n",
       "    }\n",
       "\n",
       "    .dataframe thead th {\n",
       "        text-align: right;\n",
       "    }\n",
       "</style>\n",
       "<table border=\"1\" class=\"dataframe\">\n",
       "  <thead>\n",
       "    <tr style=\"text-align: right;\">\n",
       "      <th></th>\n",
       "      <th>VIF Factor</th>\n",
       "      <th>features</th>\n",
       "    </tr>\n",
       "  </thead>\n",
       "  <tbody>\n",
       "    <tr>\n",
       "      <th>0</th>\n",
       "      <td>3.832956</td>\n",
       "      <td>gearbox</td>\n",
       "    </tr>\n",
       "    <tr>\n",
       "      <th>1</th>\n",
       "      <td>3.209670</td>\n",
       "      <td>powerPS</td>\n",
       "    </tr>\n",
       "    <tr>\n",
       "      <th>2</th>\n",
       "      <td>9.451129</td>\n",
       "      <td>kilometer</td>\n",
       "    </tr>\n",
       "    <tr>\n",
       "      <th>3</th>\n",
       "      <td>1.001783</td>\n",
       "      <td>fuelType</td>\n",
       "    </tr>\n",
       "    <tr>\n",
       "      <th>4</th>\n",
       "      <td>7.367270</td>\n",
       "      <td>tot_years</td>\n",
       "    </tr>\n",
       "  </tbody>\n",
       "</table>\n",
       "</div>"
      ],
      "text/plain": [
       "   VIF Factor   features\n",
       "0    3.832956    gearbox\n",
       "1    3.209670    powerPS\n",
       "2    9.451129  kilometer\n",
       "3    1.001783   fuelType\n",
       "4    7.367270  tot_years"
      ]
     },
     "execution_count": 82,
     "metadata": {},
     "output_type": "execute_result"
    }
   ],
   "source": [
    "\n",
    "calculate_vif(X_df)"
   ]
  },
  {
   "cell_type": "markdown",
   "metadata": {},
   "source": [
    "**Here we can see we have VIF Values for every attribute...As we know generally the variables with VIF Factor values more than 5 we need to drop it to avoid multicolineralty.here we have two variables or columns<br>\n",
    "1-kilometer<br>\n",
    "2-tot_years**"
   ]
  },
  {
   "cell_type": "markdown",
   "metadata": {},
   "source": [
    "### Lets choose right variable to drop to avoid multicolinearity"
   ]
  },
  {
   "cell_type": "code",
   "execution_count": 83,
   "metadata": {},
   "outputs": [],
   "source": [
    "X_df['price']=df_cars['price']"
   ]
  },
  {
   "cell_type": "code",
   "execution_count": 84,
   "metadata": {},
   "outputs": [
    {
     "data": {
      "text/html": [
       "<div>\n",
       "<style scoped>\n",
       "    .dataframe tbody tr th:only-of-type {\n",
       "        vertical-align: middle;\n",
       "    }\n",
       "\n",
       "    .dataframe tbody tr th {\n",
       "        vertical-align: top;\n",
       "    }\n",
       "\n",
       "    .dataframe thead th {\n",
       "        text-align: right;\n",
       "    }\n",
       "</style>\n",
       "<table border=\"1\" class=\"dataframe\">\n",
       "  <thead>\n",
       "    <tr style=\"text-align: right;\">\n",
       "      <th></th>\n",
       "      <th>gearbox</th>\n",
       "      <th>powerPS</th>\n",
       "      <th>kilometer</th>\n",
       "      <th>fuelType</th>\n",
       "      <th>tot_years</th>\n",
       "      <th>price</th>\n",
       "    </tr>\n",
       "  </thead>\n",
       "  <tbody>\n",
       "    <tr>\n",
       "      <th>gearbox</th>\n",
       "      <td>1.000000</td>\n",
       "      <td>-0.397526</td>\n",
       "      <td>0.042955</td>\n",
       "      <td>-0.023248</td>\n",
       "      <td>0.080161</td>\n",
       "      <td>0.002034</td>\n",
       "    </tr>\n",
       "    <tr>\n",
       "      <th>powerPS</th>\n",
       "      <td>-0.397526</td>\n",
       "      <td>1.000000</td>\n",
       "      <td>-0.020996</td>\n",
       "      <td>0.002347</td>\n",
       "      <td>-0.150842</td>\n",
       "      <td>-0.014375</td>\n",
       "    </tr>\n",
       "    <tr>\n",
       "      <th>kilometer</th>\n",
       "      <td>0.042955</td>\n",
       "      <td>-0.020996</td>\n",
       "      <td>1.000000</td>\n",
       "      <td>-0.004782</td>\n",
       "      <td>0.297855</td>\n",
       "      <td>-0.009716</td>\n",
       "    </tr>\n",
       "    <tr>\n",
       "      <th>fuelType</th>\n",
       "      <td>-0.023248</td>\n",
       "      <td>0.002347</td>\n",
       "      <td>-0.004782</td>\n",
       "      <td>1.000000</td>\n",
       "      <td>0.001150</td>\n",
       "      <td>-0.007013</td>\n",
       "    </tr>\n",
       "    <tr>\n",
       "      <th>tot_years</th>\n",
       "      <td>0.080161</td>\n",
       "      <td>-0.150842</td>\n",
       "      <td>0.297855</td>\n",
       "      <td>0.001150</td>\n",
       "      <td>1.000000</td>\n",
       "      <td>-0.004809</td>\n",
       "    </tr>\n",
       "    <tr>\n",
       "      <th>price</th>\n",
       "      <td>0.002034</td>\n",
       "      <td>-0.014375</td>\n",
       "      <td>-0.009716</td>\n",
       "      <td>-0.007013</td>\n",
       "      <td>-0.004809</td>\n",
       "      <td>1.000000</td>\n",
       "    </tr>\n",
       "  </tbody>\n",
       "</table>\n",
       "</div>"
      ],
      "text/plain": [
       "            gearbox   powerPS  kilometer  fuelType  tot_years     price\n",
       "gearbox    1.000000 -0.397526   0.042955 -0.023248   0.080161  0.002034\n",
       "powerPS   -0.397526  1.000000  -0.020996  0.002347  -0.150842 -0.014375\n",
       "kilometer  0.042955 -0.020996   1.000000 -0.004782   0.297855 -0.009716\n",
       "fuelType  -0.023248  0.002347  -0.004782  1.000000   0.001150 -0.007013\n",
       "tot_years  0.080161 -0.150842   0.297855  0.001150   1.000000 -0.004809\n",
       "price      0.002034 -0.014375  -0.009716 -0.007013  -0.004809  1.000000"
      ]
     },
     "execution_count": 84,
     "metadata": {},
     "output_type": "execute_result"
    }
   ],
   "source": [
    "# we are checking our independednt values relationship with dependent variable y that is price to choose best variable and drop other to tackle the problem of multicolinearity\n",
    "X_df.corr()"
   ]
  },
  {
   "cell_type": "code",
   "execution_count": 85,
   "metadata": {},
   "outputs": [
    {
     "data": {
      "text/plain": [
       "<AxesSubplot:>"
      ]
     },
     "execution_count": 85,
     "metadata": {},
     "output_type": "execute_result"
    },
    {
     "data": {
      "image/png": "[encoded data removed]",
      "text/plain": [
       "<Figure size 432x288 with 2 Axes>"
      ]
     },
     "metadata": {
      "needs_background": "light"
     },
     "output_type": "display_data"
    }
   ],
   "source": [
    "sns.heatmap(X_df.corr(), annot=True)"
   ]
  },
  {
   "cell_type": "markdown",
   "metadata": {},
   "source": [
    "## Conclusion: We can drop  tot_years columns and keep kilometer column to avoid any type of multicolinaerity"
   ]
  }
 ],
 "metadata": {
  "colab": {
   "collapsed_sections": [],
   "name": "Stats & ML Assignment Part 2.ipynb",
   "provenance": [],
   "version": "0.3.2"
  },
  "kernelspec": {
   "display_name": "Python 3 (ipykernel)",
   "language": "python",
   "name": "python3"
  },
  "language_info": {
   "codemirror_mode": {
    "name": "ipython",
    "version": 3
   },
   "file_extension": ".py",
   "mimetype": "text/x-python",
   "name": "python",
   "nbconvert_exporter": "python",
   "pygments_lexer": "ipython3",
   "version": "3.9.12"
  }
 },
 "nbformat": 4,
 "nbformat_minor": 1
}
